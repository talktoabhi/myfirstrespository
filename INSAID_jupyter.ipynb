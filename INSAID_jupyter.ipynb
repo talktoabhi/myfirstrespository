{
 "cells": [
  {
   "cell_type": "code",
   "execution_count": 1,
   "id": "5c24b87c",
   "metadata": {
    "colab": {
     "base_uri": "https://localhost:8080/"
    },
    "id": "5c24b87c",
    "outputId": "910a32bf-b7c7-46ed-8929-c783941a6c6c"
   },
   "outputs": [
    {
     "name": "stdout",
     "output_type": "stream",
     "text": [
      "Populating the interactive namespace from numpy and matplotlib\n"
     ]
    }
   ],
   "source": [
    "#Importing the important libraries\n",
    "import pandas as pd\n",
    "import numpy as np\n",
    "import seaborn as sns\n",
    "import sklearn.tree as tree\n",
    "import matplotlib.pyplot as plt\n",
    "from pandas.plotting import scatter_matrix\n",
    "%pylab inline\n",
    "import warnings\n",
    "warnings.filterwarnings('ignore')"
   ]
  },
  {
   "cell_type": "code",
   "execution_count": 4,
   "id": "95863db6",
   "metadata": {
    "colab": {
     "base_uri": "https://localhost:8080/",
     "height": 270
    },
    "id": "95863db6",
    "outputId": "46cb993f-182b-493c-c0cd-84c3cbdb435f"
   },
   "outputs": [
    {
     "data": {
      "text/html": [
       "\n",
       "  <div id=\"df-1e19fd12-e179-4461-8448-c4bf90d92b7a\">\n",
       "    <div class=\"colab-df-container\">\n",
       "      <div>\n",
       "<style scoped>\n",
       "    .dataframe tbody tr th:only-of-type {\n",
       "        vertical-align: middle;\n",
       "    }\n",
       "\n",
       "    .dataframe tbody tr th {\n",
       "        vertical-align: top;\n",
       "    }\n",
       "\n",
       "    .dataframe thead th {\n",
       "        text-align: right;\n",
       "    }\n",
       "</style>\n",
       "<table border=\"1\" class=\"dataframe\">\n",
       "  <thead>\n",
       "    <tr style=\"text-align: right;\">\n",
       "      <th></th>\n",
       "      <th>step</th>\n",
       "      <th>type</th>\n",
       "      <th>amount</th>\n",
       "      <th>nameOrig</th>\n",
       "      <th>oldbalanceOrg</th>\n",
       "      <th>newbalanceOrig</th>\n",
       "      <th>nameDest</th>\n",
       "      <th>oldbalanceDest</th>\n",
       "      <th>newbalanceDest</th>\n",
       "      <th>isFraud</th>\n",
       "      <th>isFlaggedFraud</th>\n",
       "    </tr>\n",
       "  </thead>\n",
       "  <tbody>\n",
       "    <tr>\n",
       "      <th>0</th>\n",
       "      <td>1</td>\n",
       "      <td>PAYMENT</td>\n",
       "      <td>9839.64</td>\n",
       "      <td>C1231006815</td>\n",
       "      <td>170136.0</td>\n",
       "      <td>160296.36</td>\n",
       "      <td>M1979787155</td>\n",
       "      <td>0.0</td>\n",
       "      <td>0.0</td>\n",
       "      <td>0.0</td>\n",
       "      <td>0.0</td>\n",
       "    </tr>\n",
       "    <tr>\n",
       "      <th>1</th>\n",
       "      <td>1</td>\n",
       "      <td>PAYMENT</td>\n",
       "      <td>1864.28</td>\n",
       "      <td>C1666544295</td>\n",
       "      <td>21249.0</td>\n",
       "      <td>19384.72</td>\n",
       "      <td>M2044282225</td>\n",
       "      <td>0.0</td>\n",
       "      <td>0.0</td>\n",
       "      <td>0.0</td>\n",
       "      <td>0.0</td>\n",
       "    </tr>\n",
       "    <tr>\n",
       "      <th>2</th>\n",
       "      <td>1</td>\n",
       "      <td>TRANSFER</td>\n",
       "      <td>181.00</td>\n",
       "      <td>C1305486145</td>\n",
       "      <td>181.0</td>\n",
       "      <td>0.00</td>\n",
       "      <td>C553264065</td>\n",
       "      <td>0.0</td>\n",
       "      <td>0.0</td>\n",
       "      <td>1.0</td>\n",
       "      <td>0.0</td>\n",
       "    </tr>\n",
       "    <tr>\n",
       "      <th>3</th>\n",
       "      <td>1</td>\n",
       "      <td>CASH_OUT</td>\n",
       "      <td>181.00</td>\n",
       "      <td>C840083671</td>\n",
       "      <td>181.0</td>\n",
       "      <td>0.00</td>\n",
       "      <td>C38997010</td>\n",
       "      <td>21182.0</td>\n",
       "      <td>0.0</td>\n",
       "      <td>1.0</td>\n",
       "      <td>0.0</td>\n",
       "    </tr>\n",
       "    <tr>\n",
       "      <th>4</th>\n",
       "      <td>1</td>\n",
       "      <td>PAYMENT</td>\n",
       "      <td>11668.14</td>\n",
       "      <td>C2048537720</td>\n",
       "      <td>41554.0</td>\n",
       "      <td>29885.86</td>\n",
       "      <td>M1230701703</td>\n",
       "      <td>0.0</td>\n",
       "      <td>0.0</td>\n",
       "      <td>0.0</td>\n",
       "      <td>0.0</td>\n",
       "    </tr>\n",
       "  </tbody>\n",
       "</table>\n",
       "</div>\n",
       "      <button class=\"colab-df-convert\" onclick=\"convertToInteractive('df-1e19fd12-e179-4461-8448-c4bf90d92b7a')\"\n",
       "              title=\"Convert this dataframe to an interactive table.\"\n",
       "              style=\"display:none;\">\n",
       "        \n",
       "  <svg xmlns=\"http://www.w3.org/2000/svg\" height=\"24px\"viewBox=\"0 0 24 24\"\n",
       "       width=\"24px\">\n",
       "    <path d=\"M0 0h24v24H0V0z\" fill=\"none\"/>\n",
       "    <path d=\"M18.56 5.44l.94 2.06.94-2.06 2.06-.94-2.06-.94-.94-2.06-.94 2.06-2.06.94zm-11 1L8.5 8.5l.94-2.06 2.06-.94-2.06-.94L8.5 2.5l-.94 2.06-2.06.94zm10 10l.94 2.06.94-2.06 2.06-.94-2.06-.94-.94-2.06-.94 2.06-2.06.94z\"/><path d=\"M17.41 7.96l-1.37-1.37c-.4-.4-.92-.59-1.43-.59-.52 0-1.04.2-1.43.59L10.3 9.45l-7.72 7.72c-.78.78-.78 2.05 0 2.83L4 21.41c.39.39.9.59 1.41.59.51 0 1.02-.2 1.41-.59l7.78-7.78 2.81-2.81c.8-.78.8-2.07 0-2.86zM5.41 20L4 18.59l7.72-7.72 1.47 1.35L5.41 20z\"/>\n",
       "  </svg>\n",
       "      </button>\n",
       "      \n",
       "  <style>\n",
       "    .colab-df-container {\n",
       "      display:flex;\n",
       "      flex-wrap:wrap;\n",
       "      gap: 12px;\n",
       "    }\n",
       "\n",
       "    .colab-df-convert {\n",
       "      background-color: #E8F0FE;\n",
       "      border: none;\n",
       "      border-radius: 50%;\n",
       "      cursor: pointer;\n",
       "      display: none;\n",
       "      fill: #1967D2;\n",
       "      height: 32px;\n",
       "      padding: 0 0 0 0;\n",
       "      width: 32px;\n",
       "    }\n",
       "\n",
       "    .colab-df-convert:hover {\n",
       "      background-color: #E2EBFA;\n",
       "      box-shadow: 0px 1px 2px rgba(60, 64, 67, 0.3), 0px 1px 3px 1px rgba(60, 64, 67, 0.15);\n",
       "      fill: #174EA6;\n",
       "    }\n",
       "\n",
       "    [theme=dark] .colab-df-convert {\n",
       "      background-color: #3B4455;\n",
       "      fill: #D2E3FC;\n",
       "    }\n",
       "\n",
       "    [theme=dark] .colab-df-convert:hover {\n",
       "      background-color: #434B5C;\n",
       "      box-shadow: 0px 1px 3px 1px rgba(0, 0, 0, 0.15);\n",
       "      filter: drop-shadow(0px 1px 2px rgba(0, 0, 0, 0.3));\n",
       "      fill: #FFFFFF;\n",
       "    }\n",
       "  </style>\n",
       "\n",
       "      <script>\n",
       "        const buttonEl =\n",
       "          document.querySelector('#df-1e19fd12-e179-4461-8448-c4bf90d92b7a button.colab-df-convert');\n",
       "        buttonEl.style.display =\n",
       "          google.colab.kernel.accessAllowed ? 'block' : 'none';\n",
       "\n",
       "        async function convertToInteractive(key) {\n",
       "          const element = document.querySelector('#df-1e19fd12-e179-4461-8448-c4bf90d92b7a');\n",
       "          const dataTable =\n",
       "            await google.colab.kernel.invokeFunction('convertToInteractive',\n",
       "                                                     [key], {});\n",
       "          if (!dataTable) return;\n",
       "\n",
       "          const docLinkHtml = 'Like what you see? Visit the ' +\n",
       "            '<a target=\"_blank\" href=https://colab.research.google.com/notebooks/data_table.ipynb>data table notebook</a>'\n",
       "            + ' to learn more about interactive tables.';\n",
       "          element.innerHTML = '';\n",
       "          dataTable['output_type'] = 'display_data';\n",
       "          await google.colab.output.renderOutput(dataTable, element);\n",
       "          const docLink = document.createElement('div');\n",
       "          docLink.innerHTML = docLinkHtml;\n",
       "          element.appendChild(docLink);\n",
       "        }\n",
       "      </script>\n",
       "    </div>\n",
       "  </div>\n",
       "  "
      ],
      "text/plain": [
       "   step      type    amount     nameOrig  oldbalanceOrg  newbalanceOrig  \\\n",
       "0     1   PAYMENT   9839.64  C1231006815       170136.0       160296.36   \n",
       "1     1   PAYMENT   1864.28  C1666544295        21249.0        19384.72   \n",
       "2     1  TRANSFER    181.00  C1305486145          181.0            0.00   \n",
       "3     1  CASH_OUT    181.00   C840083671          181.0            0.00   \n",
       "4     1   PAYMENT  11668.14  C2048537720        41554.0        29885.86   \n",
       "\n",
       "      nameDest  oldbalanceDest  newbalanceDest  isFraud  isFlaggedFraud  \n",
       "0  M1979787155             0.0             0.0      0.0             0.0  \n",
       "1  M2044282225             0.0             0.0      0.0             0.0  \n",
       "2   C553264065             0.0             0.0      1.0             0.0  \n",
       "3    C38997010         21182.0             0.0      1.0             0.0  \n",
       "4  M1230701703             0.0             0.0      0.0             0.0  "
      ]
     },
     "execution_count": 4,
     "metadata": {},
     "output_type": "execute_result"
    }
   ],
   "source": [
    "# Read and Display the Data \n",
    "df = pd.read_csv(r\"C:\\Users\\talkt\\Downloads\\Fraud.csv\")\n",
    "df.head()"
   ]
  },
  {
   "cell_type": "code",
   "execution_count": 19,
   "id": "601f46a0",
   "metadata": {
    "colab": {
     "base_uri": "https://localhost:8080/"
    },
    "id": "601f46a0",
    "outputId": "ed8a78e6-5d9e-414c-8857-465818694c45"
   },
   "outputs": [
    {
     "data": {
      "text/plain": [
       "(3546654, 12)"
      ]
     },
     "execution_count": 19,
     "metadata": {},
     "output_type": "execute_result"
    }
   ],
   "source": [
    "df.shape"
   ]
  },
  {
   "cell_type": "code",
   "execution_count": 6,
   "id": "fffcbc61",
   "metadata": {
    "colab": {
     "base_uri": "https://localhost:8080/",
     "height": 364
    },
    "id": "fffcbc61",
    "outputId": "0beb7c2c-828b-4bc8-dc89-dc80591ea2b8"
   },
   "outputs": [
    {
     "data": {
      "text/html": [
       "\n",
       "  <div id=\"df-549a1291-1ee5-4f91-bb91-d5dc81b5fc10\">\n",
       "    <div class=\"colab-df-container\">\n",
       "      <div>\n",
       "<style scoped>\n",
       "    .dataframe tbody tr th:only-of-type {\n",
       "        vertical-align: middle;\n",
       "    }\n",
       "\n",
       "    .dataframe tbody tr th {\n",
       "        vertical-align: top;\n",
       "    }\n",
       "\n",
       "    .dataframe thead th {\n",
       "        text-align: right;\n",
       "    }\n",
       "</style>\n",
       "<table border=\"1\" class=\"dataframe\">\n",
       "  <thead>\n",
       "    <tr style=\"text-align: right;\">\n",
       "      <th></th>\n",
       "      <th>step</th>\n",
       "      <th>amount</th>\n",
       "      <th>oldbalanceOrg</th>\n",
       "      <th>newbalanceOrig</th>\n",
       "      <th>oldbalanceDest</th>\n",
       "      <th>newbalanceDest</th>\n",
       "      <th>isFraud</th>\n",
       "      <th>isFlaggedFraud</th>\n",
       "    </tr>\n",
       "  </thead>\n",
       "  <tbody>\n",
       "    <tr>\n",
       "      <th>count</th>\n",
       "      <td>3.546654e+06</td>\n",
       "      <td>3.546653e+06</td>\n",
       "      <td>3.546653e+06</td>\n",
       "      <td>3.546653e+06</td>\n",
       "      <td>3.546653e+06</td>\n",
       "      <td>3.546653e+06</td>\n",
       "      <td>3.546653e+06</td>\n",
       "      <td>3.546653e+06</td>\n",
       "    </tr>\n",
       "    <tr>\n",
       "      <th>mean</th>\n",
       "      <td>1.432367e+02</td>\n",
       "      <td>1.569191e+05</td>\n",
       "      <td>8.392561e+05</td>\n",
       "      <td>8.607654e+05</td>\n",
       "      <td>9.947762e+05</td>\n",
       "      <td>1.098759e+06</td>\n",
       "      <td>8.230295e-04</td>\n",
       "      <td>5.639119e-07</td>\n",
       "    </tr>\n",
       "    <tr>\n",
       "      <th>std</th>\n",
       "      <td>8.318451e+01</td>\n",
       "      <td>2.658956e+05</td>\n",
       "      <td>2.906348e+06</td>\n",
       "      <td>2.942675e+06</td>\n",
       "      <td>2.302074e+06</td>\n",
       "      <td>2.380167e+06</td>\n",
       "      <td>2.867669e-02</td>\n",
       "      <td>7.509406e-04</td>\n",
       "    </tr>\n",
       "    <tr>\n",
       "      <th>min</th>\n",
       "      <td>1.000000e+00</td>\n",
       "      <td>0.000000e+00</td>\n",
       "      <td>0.000000e+00</td>\n",
       "      <td>0.000000e+00</td>\n",
       "      <td>0.000000e+00</td>\n",
       "      <td>0.000000e+00</td>\n",
       "      <td>0.000000e+00</td>\n",
       "      <td>0.000000e+00</td>\n",
       "    </tr>\n",
       "    <tr>\n",
       "      <th>25%</th>\n",
       "      <td>4.200000e+01</td>\n",
       "      <td>1.264579e+04</td>\n",
       "      <td>0.000000e+00</td>\n",
       "      <td>0.000000e+00</td>\n",
       "      <td>0.000000e+00</td>\n",
       "      <td>0.000000e+00</td>\n",
       "      <td>0.000000e+00</td>\n",
       "      <td>0.000000e+00</td>\n",
       "    </tr>\n",
       "    <tr>\n",
       "      <th>50%</th>\n",
       "      <td>1.620000e+02</td>\n",
       "      <td>7.614377e+04</td>\n",
       "      <td>1.448600e+04</td>\n",
       "      <td>0.000000e+00</td>\n",
       "      <td>1.381884e+05</td>\n",
       "      <td>2.238809e+05</td>\n",
       "      <td>0.000000e+00</td>\n",
       "      <td>0.000000e+00</td>\n",
       "    </tr>\n",
       "    <tr>\n",
       "      <th>75%</th>\n",
       "      <td>2.100000e+02</td>\n",
       "      <td>2.104640e+05</td>\n",
       "      <td>1.115230e+05</td>\n",
       "      <td>1.510846e+05</td>\n",
       "      <td>9.428234e+05</td>\n",
       "      <td>1.122168e+06</td>\n",
       "      <td>0.000000e+00</td>\n",
       "      <td>0.000000e+00</td>\n",
       "    </tr>\n",
       "    <tr>\n",
       "      <th>max</th>\n",
       "      <td>2.600000e+02</td>\n",
       "      <td>1.000000e+07</td>\n",
       "      <td>3.893942e+07</td>\n",
       "      <td>3.894623e+07</td>\n",
       "      <td>4.265577e+07</td>\n",
       "      <td>4.285430e+07</td>\n",
       "      <td>1.000000e+00</td>\n",
       "      <td>1.000000e+00</td>\n",
       "    </tr>\n",
       "  </tbody>\n",
       "</table>\n",
       "</div>\n",
       "      <button class=\"colab-df-convert\" onclick=\"convertToInteractive('df-549a1291-1ee5-4f91-bb91-d5dc81b5fc10')\"\n",
       "              title=\"Convert this dataframe to an interactive table.\"\n",
       "              style=\"display:none;\">\n",
       "        \n",
       "  <svg xmlns=\"http://www.w3.org/2000/svg\" height=\"24px\"viewBox=\"0 0 24 24\"\n",
       "       width=\"24px\">\n",
       "    <path d=\"M0 0h24v24H0V0z\" fill=\"none\"/>\n",
       "    <path d=\"M18.56 5.44l.94 2.06.94-2.06 2.06-.94-2.06-.94-.94-2.06-.94 2.06-2.06.94zm-11 1L8.5 8.5l.94-2.06 2.06-.94-2.06-.94L8.5 2.5l-.94 2.06-2.06.94zm10 10l.94 2.06.94-2.06 2.06-.94-2.06-.94-.94-2.06-.94 2.06-2.06.94z\"/><path d=\"M17.41 7.96l-1.37-1.37c-.4-.4-.92-.59-1.43-.59-.52 0-1.04.2-1.43.59L10.3 9.45l-7.72 7.72c-.78.78-.78 2.05 0 2.83L4 21.41c.39.39.9.59 1.41.59.51 0 1.02-.2 1.41-.59l7.78-7.78 2.81-2.81c.8-.78.8-2.07 0-2.86zM5.41 20L4 18.59l7.72-7.72 1.47 1.35L5.41 20z\"/>\n",
       "  </svg>\n",
       "      </button>\n",
       "      \n",
       "  <style>\n",
       "    .colab-df-container {\n",
       "      display:flex;\n",
       "      flex-wrap:wrap;\n",
       "      gap: 12px;\n",
       "    }\n",
       "\n",
       "    .colab-df-convert {\n",
       "      background-color: #E8F0FE;\n",
       "      border: none;\n",
       "      border-radius: 50%;\n",
       "      cursor: pointer;\n",
       "      display: none;\n",
       "      fill: #1967D2;\n",
       "      height: 32px;\n",
       "      padding: 0 0 0 0;\n",
       "      width: 32px;\n",
       "    }\n",
       "\n",
       "    .colab-df-convert:hover {\n",
       "      background-color: #E2EBFA;\n",
       "      box-shadow: 0px 1px 2px rgba(60, 64, 67, 0.3), 0px 1px 3px 1px rgba(60, 64, 67, 0.15);\n",
       "      fill: #174EA6;\n",
       "    }\n",
       "\n",
       "    [theme=dark] .colab-df-convert {\n",
       "      background-color: #3B4455;\n",
       "      fill: #D2E3FC;\n",
       "    }\n",
       "\n",
       "    [theme=dark] .colab-df-convert:hover {\n",
       "      background-color: #434B5C;\n",
       "      box-shadow: 0px 1px 3px 1px rgba(0, 0, 0, 0.15);\n",
       "      filter: drop-shadow(0px 1px 2px rgba(0, 0, 0, 0.3));\n",
       "      fill: #FFFFFF;\n",
       "    }\n",
       "  </style>\n",
       "\n",
       "      <script>\n",
       "        const buttonEl =\n",
       "          document.querySelector('#df-549a1291-1ee5-4f91-bb91-d5dc81b5fc10 button.colab-df-convert');\n",
       "        buttonEl.style.display =\n",
       "          google.colab.kernel.accessAllowed ? 'block' : 'none';\n",
       "\n",
       "        async function convertToInteractive(key) {\n",
       "          const element = document.querySelector('#df-549a1291-1ee5-4f91-bb91-d5dc81b5fc10');\n",
       "          const dataTable =\n",
       "            await google.colab.kernel.invokeFunction('convertToInteractive',\n",
       "                                                     [key], {});\n",
       "          if (!dataTable) return;\n",
       "\n",
       "          const docLinkHtml = 'Like what you see? Visit the ' +\n",
       "            '<a target=\"_blank\" href=https://colab.research.google.com/notebooks/data_table.ipynb>data table notebook</a>'\n",
       "            + ' to learn more about interactive tables.';\n",
       "          element.innerHTML = '';\n",
       "          dataTable['output_type'] = 'display_data';\n",
       "          await google.colab.output.renderOutput(dataTable, element);\n",
       "          const docLink = document.createElement('div');\n",
       "          docLink.innerHTML = docLinkHtml;\n",
       "          element.appendChild(docLink);\n",
       "        }\n",
       "      </script>\n",
       "    </div>\n",
       "  </div>\n",
       "  "
      ],
      "text/plain": [
       "               step        amount  oldbalanceOrg  newbalanceOrig  \\\n",
       "count  3.546654e+06  3.546653e+06   3.546653e+06    3.546653e+06   \n",
       "mean   1.432367e+02  1.569191e+05   8.392561e+05    8.607654e+05   \n",
       "std    8.318451e+01  2.658956e+05   2.906348e+06    2.942675e+06   \n",
       "min    1.000000e+00  0.000000e+00   0.000000e+00    0.000000e+00   \n",
       "25%    4.200000e+01  1.264579e+04   0.000000e+00    0.000000e+00   \n",
       "50%    1.620000e+02  7.614377e+04   1.448600e+04    0.000000e+00   \n",
       "75%    2.100000e+02  2.104640e+05   1.115230e+05    1.510846e+05   \n",
       "max    2.600000e+02  1.000000e+07   3.893942e+07    3.894623e+07   \n",
       "\n",
       "       oldbalanceDest  newbalanceDest       isFraud  isFlaggedFraud  \n",
       "count    3.546653e+06    3.546653e+06  3.546653e+06    3.546653e+06  \n",
       "mean     9.947762e+05    1.098759e+06  8.230295e-04    5.639119e-07  \n",
       "std      2.302074e+06    2.380167e+06  2.867669e-02    7.509406e-04  \n",
       "min      0.000000e+00    0.000000e+00  0.000000e+00    0.000000e+00  \n",
       "25%      0.000000e+00    0.000000e+00  0.000000e+00    0.000000e+00  \n",
       "50%      1.381884e+05    2.238809e+05  0.000000e+00    0.000000e+00  \n",
       "75%      9.428234e+05    1.122168e+06  0.000000e+00    0.000000e+00  \n",
       "max      4.265577e+07    4.285430e+07  1.000000e+00    1.000000e+00  "
      ]
     },
     "execution_count": 6,
     "metadata": {},
     "output_type": "execute_result"
    }
   ],
   "source": [
    "df.describe()"
   ]
  },
  {
   "cell_type": "code",
   "execution_count": 7,
   "id": "6e0dba29",
   "metadata": {
    "id": "6e0dba29"
   },
   "outputs": [],
   "source": [
    "df = df.drop(columns=['step', 'nameOrig', 'nameDest'])"
   ]
  },
  {
   "cell_type": "markdown",
   "id": "GNyiWw4zvaSM",
   "metadata": {
    "id": "GNyiWw4zvaSM"
   },
   "source": [
    "**Convert the 'type' values using OneHotEncoder.**"
   ]
  },
  {
   "cell_type": "code",
   "execution_count": 8,
   "id": "9S3OVuAIIc_i",
   "metadata": {
    "id": "9S3OVuAIIc_i"
   },
   "outputs": [],
   "source": [
    "from sklearn.preprocessing import OneHotEncoder\n",
    "ohe = OneHotEncoder()"
   ]
  },
  {
   "cell_type": "code",
   "execution_count": 9,
   "id": "T4OGH2UlIdGI",
   "metadata": {
    "id": "T4OGH2UlIdGI"
   },
   "outputs": [],
   "source": [
    "# transforming the column after fitting\n",
    "ohe = ohe.fit_transform(df[['type']]).toarray()"
   ]
  },
  {
   "cell_type": "code",
   "execution_count": 10,
   "id": "KCT8vHSdIdNb",
   "metadata": {
    "id": "KCT8vHSdIdNb"
   },
   "outputs": [],
   "source": [
    "# converting arrays into DataFrame\n",
    "enc_col = pd.DataFrame(ohe)"
   ]
  },
  {
   "cell_type": "code",
   "execution_count": 11,
   "id": "iBKXFCbjIdS9",
   "metadata": {
    "id": "iBKXFCbjIdS9"
   },
   "outputs": [],
   "source": [
    "# concating dataframes \n",
    "df = pd.concat([df, enc_col], axis = 1) "
   ]
  },
  {
   "cell_type": "code",
   "execution_count": 12,
   "id": "2_AkfcwwJImR",
   "metadata": {
    "colab": {
     "base_uri": "https://localhost:8080/",
     "height": 270
    },
    "id": "2_AkfcwwJImR",
    "outputId": "5f028895-c519-4fd9-f09f-fc306a0ed1b0"
   },
   "outputs": [
    {
     "data": {
      "text/html": [
       "\n",
       "  <div id=\"df-a4c4cc98-bd68-42fb-bd15-6e5dcf3e15a9\">\n",
       "    <div class=\"colab-df-container\">\n",
       "      <div>\n",
       "<style scoped>\n",
       "    .dataframe tbody tr th:only-of-type {\n",
       "        vertical-align: middle;\n",
       "    }\n",
       "\n",
       "    .dataframe tbody tr th {\n",
       "        vertical-align: top;\n",
       "    }\n",
       "\n",
       "    .dataframe thead th {\n",
       "        text-align: right;\n",
       "    }\n",
       "</style>\n",
       "<table border=\"1\" class=\"dataframe\">\n",
       "  <thead>\n",
       "    <tr style=\"text-align: right;\">\n",
       "      <th></th>\n",
       "      <th>amount</th>\n",
       "      <th>oldbalanceOrg</th>\n",
       "      <th>newbalanceOrig</th>\n",
       "      <th>oldbalanceDest</th>\n",
       "      <th>newbalanceDest</th>\n",
       "      <th>isFraud</th>\n",
       "      <th>isFlaggedFraud</th>\n",
       "      <th>0</th>\n",
       "      <th>1</th>\n",
       "      <th>2</th>\n",
       "      <th>3</th>\n",
       "      <th>4</th>\n",
       "    </tr>\n",
       "  </thead>\n",
       "  <tbody>\n",
       "    <tr>\n",
       "      <th>0</th>\n",
       "      <td>9839.64</td>\n",
       "      <td>170136.0</td>\n",
       "      <td>160296.36</td>\n",
       "      <td>0.0</td>\n",
       "      <td>0.0</td>\n",
       "      <td>0.0</td>\n",
       "      <td>0.0</td>\n",
       "      <td>0.0</td>\n",
       "      <td>0.0</td>\n",
       "      <td>0.0</td>\n",
       "      <td>1.0</td>\n",
       "      <td>0.0</td>\n",
       "    </tr>\n",
       "    <tr>\n",
       "      <th>1</th>\n",
       "      <td>1864.28</td>\n",
       "      <td>21249.0</td>\n",
       "      <td>19384.72</td>\n",
       "      <td>0.0</td>\n",
       "      <td>0.0</td>\n",
       "      <td>0.0</td>\n",
       "      <td>0.0</td>\n",
       "      <td>0.0</td>\n",
       "      <td>0.0</td>\n",
       "      <td>0.0</td>\n",
       "      <td>1.0</td>\n",
       "      <td>0.0</td>\n",
       "    </tr>\n",
       "    <tr>\n",
       "      <th>2</th>\n",
       "      <td>181.00</td>\n",
       "      <td>181.0</td>\n",
       "      <td>0.00</td>\n",
       "      <td>0.0</td>\n",
       "      <td>0.0</td>\n",
       "      <td>1.0</td>\n",
       "      <td>0.0</td>\n",
       "      <td>0.0</td>\n",
       "      <td>0.0</td>\n",
       "      <td>0.0</td>\n",
       "      <td>0.0</td>\n",
       "      <td>1.0</td>\n",
       "    </tr>\n",
       "    <tr>\n",
       "      <th>3</th>\n",
       "      <td>181.00</td>\n",
       "      <td>181.0</td>\n",
       "      <td>0.00</td>\n",
       "      <td>21182.0</td>\n",
       "      <td>0.0</td>\n",
       "      <td>1.0</td>\n",
       "      <td>0.0</td>\n",
       "      <td>0.0</td>\n",
       "      <td>1.0</td>\n",
       "      <td>0.0</td>\n",
       "      <td>0.0</td>\n",
       "      <td>0.0</td>\n",
       "    </tr>\n",
       "    <tr>\n",
       "      <th>4</th>\n",
       "      <td>11668.14</td>\n",
       "      <td>41554.0</td>\n",
       "      <td>29885.86</td>\n",
       "      <td>0.0</td>\n",
       "      <td>0.0</td>\n",
       "      <td>0.0</td>\n",
       "      <td>0.0</td>\n",
       "      <td>0.0</td>\n",
       "      <td>0.0</td>\n",
       "      <td>0.0</td>\n",
       "      <td>1.0</td>\n",
       "      <td>0.0</td>\n",
       "    </tr>\n",
       "  </tbody>\n",
       "</table>\n",
       "</div>\n",
       "      <button class=\"colab-df-convert\" onclick=\"convertToInteractive('df-a4c4cc98-bd68-42fb-bd15-6e5dcf3e15a9')\"\n",
       "              title=\"Convert this dataframe to an interactive table.\"\n",
       "              style=\"display:none;\">\n",
       "        \n",
       "  <svg xmlns=\"http://www.w3.org/2000/svg\" height=\"24px\"viewBox=\"0 0 24 24\"\n",
       "       width=\"24px\">\n",
       "    <path d=\"M0 0h24v24H0V0z\" fill=\"none\"/>\n",
       "    <path d=\"M18.56 5.44l.94 2.06.94-2.06 2.06-.94-2.06-.94-.94-2.06-.94 2.06-2.06.94zm-11 1L8.5 8.5l.94-2.06 2.06-.94-2.06-.94L8.5 2.5l-.94 2.06-2.06.94zm10 10l.94 2.06.94-2.06 2.06-.94-2.06-.94-.94-2.06-.94 2.06-2.06.94z\"/><path d=\"M17.41 7.96l-1.37-1.37c-.4-.4-.92-.59-1.43-.59-.52 0-1.04.2-1.43.59L10.3 9.45l-7.72 7.72c-.78.78-.78 2.05 0 2.83L4 21.41c.39.39.9.59 1.41.59.51 0 1.02-.2 1.41-.59l7.78-7.78 2.81-2.81c.8-.78.8-2.07 0-2.86zM5.41 20L4 18.59l7.72-7.72 1.47 1.35L5.41 20z\"/>\n",
       "  </svg>\n",
       "      </button>\n",
       "      \n",
       "  <style>\n",
       "    .colab-df-container {\n",
       "      display:flex;\n",
       "      flex-wrap:wrap;\n",
       "      gap: 12px;\n",
       "    }\n",
       "\n",
       "    .colab-df-convert {\n",
       "      background-color: #E8F0FE;\n",
       "      border: none;\n",
       "      border-radius: 50%;\n",
       "      cursor: pointer;\n",
       "      display: none;\n",
       "      fill: #1967D2;\n",
       "      height: 32px;\n",
       "      padding: 0 0 0 0;\n",
       "      width: 32px;\n",
       "    }\n",
       "\n",
       "    .colab-df-convert:hover {\n",
       "      background-color: #E2EBFA;\n",
       "      box-shadow: 0px 1px 2px rgba(60, 64, 67, 0.3), 0px 1px 3px 1px rgba(60, 64, 67, 0.15);\n",
       "      fill: #174EA6;\n",
       "    }\n",
       "\n",
       "    [theme=dark] .colab-df-convert {\n",
       "      background-color: #3B4455;\n",
       "      fill: #D2E3FC;\n",
       "    }\n",
       "\n",
       "    [theme=dark] .colab-df-convert:hover {\n",
       "      background-color: #434B5C;\n",
       "      box-shadow: 0px 1px 3px 1px rgba(0, 0, 0, 0.15);\n",
       "      filter: drop-shadow(0px 1px 2px rgba(0, 0, 0, 0.3));\n",
       "      fill: #FFFFFF;\n",
       "    }\n",
       "  </style>\n",
       "\n",
       "      <script>\n",
       "        const buttonEl =\n",
       "          document.querySelector('#df-a4c4cc98-bd68-42fb-bd15-6e5dcf3e15a9 button.colab-df-convert');\n",
       "        buttonEl.style.display =\n",
       "          google.colab.kernel.accessAllowed ? 'block' : 'none';\n",
       "\n",
       "        async function convertToInteractive(key) {\n",
       "          const element = document.querySelector('#df-a4c4cc98-bd68-42fb-bd15-6e5dcf3e15a9');\n",
       "          const dataTable =\n",
       "            await google.colab.kernel.invokeFunction('convertToInteractive',\n",
       "                                                     [key], {});\n",
       "          if (!dataTable) return;\n",
       "\n",
       "          const docLinkHtml = 'Like what you see? Visit the ' +\n",
       "            '<a target=\"_blank\" href=https://colab.research.google.com/notebooks/data_table.ipynb>data table notebook</a>'\n",
       "            + ' to learn more about interactive tables.';\n",
       "          element.innerHTML = '';\n",
       "          dataTable['output_type'] = 'display_data';\n",
       "          await google.colab.output.renderOutput(dataTable, element);\n",
       "          const docLink = document.createElement('div');\n",
       "          docLink.innerHTML = docLinkHtml;\n",
       "          element.appendChild(docLink);\n",
       "        }\n",
       "      </script>\n",
       "    </div>\n",
       "  </div>\n",
       "  "
      ],
      "text/plain": [
       "     amount  oldbalanceOrg  newbalanceOrig  oldbalanceDest  newbalanceDest  \\\n",
       "0   9839.64       170136.0       160296.36             0.0             0.0   \n",
       "1   1864.28        21249.0        19384.72             0.0             0.0   \n",
       "2    181.00          181.0            0.00             0.0             0.0   \n",
       "3    181.00          181.0            0.00         21182.0             0.0   \n",
       "4  11668.14        41554.0        29885.86             0.0             0.0   \n",
       "\n",
       "   isFraud  isFlaggedFraud    0    1    2    3    4  \n",
       "0      0.0             0.0  0.0  0.0  0.0  1.0  0.0  \n",
       "1      0.0             0.0  0.0  0.0  0.0  1.0  0.0  \n",
       "2      1.0             0.0  0.0  0.0  0.0  0.0  1.0  \n",
       "3      1.0             0.0  0.0  1.0  0.0  0.0  0.0  \n",
       "4      0.0             0.0  0.0  0.0  0.0  1.0  0.0  "
      ]
     },
     "execution_count": 12,
     "metadata": {},
     "output_type": "execute_result"
    }
   ],
   "source": [
    "# removing the encoded column.\n",
    "df = df.drop(['type'], axis = 1) \n",
    "df.head()"
   ]
  },
  {
   "cell_type": "code",
   "execution_count": 13,
   "id": "0193e85a",
   "metadata": {
    "colab": {
     "base_uri": "https://localhost:8080/"
    },
    "id": "0193e85a",
    "outputId": "0ab85f90-2aaa-4537-aace-10da7b5a9901"
   },
   "outputs": [
    {
     "name": "stdout",
     "output_type": "stream",
     "text": [
      "<class 'pandas.core.frame.DataFrame'>\n",
      "RangeIndex: 3546654 entries, 0 to 3546653\n",
      "Data columns (total 12 columns):\n",
      " #   Column          Dtype  \n",
      "---  ------          -----  \n",
      " 0   amount          float64\n",
      " 1   oldbalanceOrg   float64\n",
      " 2   newbalanceOrig  float64\n",
      " 3   oldbalanceDest  float64\n",
      " 4   newbalanceDest  float64\n",
      " 5   isFraud         float64\n",
      " 6   isFlaggedFraud  float64\n",
      " 7   0               float64\n",
      " 8   1               float64\n",
      " 9   2               float64\n",
      " 10  3               float64\n",
      " 11  4               float64\n",
      "dtypes: float64(12)\n",
      "memory usage: 324.7 MB\n"
     ]
    }
   ],
   "source": [
    "df.info()"
   ]
  },
  {
   "cell_type": "markdown",
   "id": "YFgQGGzy3u4y",
   "metadata": {
    "id": "YFgQGGzy3u4y"
   },
   "source": [
    "**Checking the Null Values in the Dataset**"
   ]
  },
  {
   "cell_type": "code",
   "execution_count": 14,
   "id": "8e8a496e",
   "metadata": {
    "colab": {
     "base_uri": "https://localhost:8080/"
    },
    "id": "8e8a496e",
    "outputId": "cf9f1cea-b9fd-4317-d873-5bfa39325c6d"
   },
   "outputs": [
    {
     "data": {
      "text/plain": [
       "amount            1\n",
       "oldbalanceOrg     1\n",
       "newbalanceOrig    1\n",
       "oldbalanceDest    1\n",
       "newbalanceDest    1\n",
       "isFraud           1\n",
       "isFlaggedFraud    1\n",
       "0                 0\n",
       "1                 0\n",
       "2                 0\n",
       "3                 0\n",
       "4                 0\n",
       "dtype: int64"
      ]
     },
     "execution_count": 14,
     "metadata": {},
     "output_type": "execute_result"
    }
   ],
   "source": [
    "df.isnull().sum()"
   ]
  },
  {
   "cell_type": "code",
   "execution_count": 16,
   "id": "hMo0lMzRhusC",
   "metadata": {
    "colab": {
     "base_uri": "https://localhost:8080/",
     "height": 488
    },
    "id": "hMo0lMzRhusC",
    "outputId": "632db637-0d61-4510-d2d6-64d2292653fc"
   },
   "outputs": [
    {
     "data": {
      "text/html": [
       "\n",
       "  <div id=\"df-22004ab0-6cd2-4e50-80cf-a721d8c28a13\">\n",
       "    <div class=\"colab-df-container\">\n",
       "      <div>\n",
       "<style scoped>\n",
       "    .dataframe tbody tr th:only-of-type {\n",
       "        vertical-align: middle;\n",
       "    }\n",
       "\n",
       "    .dataframe tbody tr th {\n",
       "        vertical-align: top;\n",
       "    }\n",
       "\n",
       "    .dataframe thead th {\n",
       "        text-align: right;\n",
       "    }\n",
       "</style>\n",
       "<table border=\"1\" class=\"dataframe\">\n",
       "  <thead>\n",
       "    <tr style=\"text-align: right;\">\n",
       "      <th></th>\n",
       "      <th>amount</th>\n",
       "      <th>oldbalanceOrg</th>\n",
       "      <th>newbalanceOrig</th>\n",
       "      <th>oldbalanceDest</th>\n",
       "      <th>newbalanceDest</th>\n",
       "      <th>isFraud</th>\n",
       "      <th>isFlaggedFraud</th>\n",
       "      <th>0</th>\n",
       "      <th>1</th>\n",
       "      <th>2</th>\n",
       "      <th>3</th>\n",
       "      <th>4</th>\n",
       "    </tr>\n",
       "  </thead>\n",
       "  <tbody>\n",
       "    <tr>\n",
       "      <th>0</th>\n",
       "      <td>9839.64</td>\n",
       "      <td>170136.00</td>\n",
       "      <td>160296.36</td>\n",
       "      <td>0.0</td>\n",
       "      <td>0.0</td>\n",
       "      <td>0.0</td>\n",
       "      <td>0.0</td>\n",
       "      <td>0.0</td>\n",
       "      <td>0.0</td>\n",
       "      <td>0.0</td>\n",
       "      <td>1.0</td>\n",
       "      <td>0.0</td>\n",
       "    </tr>\n",
       "    <tr>\n",
       "      <th>1</th>\n",
       "      <td>1864.28</td>\n",
       "      <td>21249.00</td>\n",
       "      <td>19384.72</td>\n",
       "      <td>0.0</td>\n",
       "      <td>0.0</td>\n",
       "      <td>0.0</td>\n",
       "      <td>0.0</td>\n",
       "      <td>0.0</td>\n",
       "      <td>0.0</td>\n",
       "      <td>0.0</td>\n",
       "      <td>1.0</td>\n",
       "      <td>0.0</td>\n",
       "    </tr>\n",
       "    <tr>\n",
       "      <th>2</th>\n",
       "      <td>181.00</td>\n",
       "      <td>181.00</td>\n",
       "      <td>0.00</td>\n",
       "      <td>0.0</td>\n",
       "      <td>0.0</td>\n",
       "      <td>1.0</td>\n",
       "      <td>0.0</td>\n",
       "      <td>0.0</td>\n",
       "      <td>0.0</td>\n",
       "      <td>0.0</td>\n",
       "      <td>0.0</td>\n",
       "      <td>1.0</td>\n",
       "    </tr>\n",
       "    <tr>\n",
       "      <th>3</th>\n",
       "      <td>181.00</td>\n",
       "      <td>181.00</td>\n",
       "      <td>0.00</td>\n",
       "      <td>21182.0</td>\n",
       "      <td>0.0</td>\n",
       "      <td>1.0</td>\n",
       "      <td>0.0</td>\n",
       "      <td>0.0</td>\n",
       "      <td>1.0</td>\n",
       "      <td>0.0</td>\n",
       "      <td>0.0</td>\n",
       "      <td>0.0</td>\n",
       "    </tr>\n",
       "    <tr>\n",
       "      <th>4</th>\n",
       "      <td>11668.14</td>\n",
       "      <td>41554.00</td>\n",
       "      <td>29885.86</td>\n",
       "      <td>0.0</td>\n",
       "      <td>0.0</td>\n",
       "      <td>0.0</td>\n",
       "      <td>0.0</td>\n",
       "      <td>0.0</td>\n",
       "      <td>0.0</td>\n",
       "      <td>0.0</td>\n",
       "      <td>1.0</td>\n",
       "      <td>0.0</td>\n",
       "    </tr>\n",
       "    <tr>\n",
       "      <th>...</th>\n",
       "      <td>...</td>\n",
       "      <td>...</td>\n",
       "      <td>...</td>\n",
       "      <td>...</td>\n",
       "      <td>...</td>\n",
       "      <td>...</td>\n",
       "      <td>...</td>\n",
       "      <td>...</td>\n",
       "      <td>...</td>\n",
       "      <td>...</td>\n",
       "      <td>...</td>\n",
       "      <td>...</td>\n",
       "    </tr>\n",
       "    <tr>\n",
       "      <th>3546648</th>\n",
       "      <td>3917.30</td>\n",
       "      <td>21012.00</td>\n",
       "      <td>17094.70</td>\n",
       "      <td>0.0</td>\n",
       "      <td>0.0</td>\n",
       "      <td>0.0</td>\n",
       "      <td>0.0</td>\n",
       "      <td>0.0</td>\n",
       "      <td>0.0</td>\n",
       "      <td>0.0</td>\n",
       "      <td>1.0</td>\n",
       "      <td>0.0</td>\n",
       "    </tr>\n",
       "    <tr>\n",
       "      <th>3546649</th>\n",
       "      <td>7829.76</td>\n",
       "      <td>22116.00</td>\n",
       "      <td>14286.24</td>\n",
       "      <td>0.0</td>\n",
       "      <td>0.0</td>\n",
       "      <td>0.0</td>\n",
       "      <td>0.0</td>\n",
       "      <td>0.0</td>\n",
       "      <td>0.0</td>\n",
       "      <td>0.0</td>\n",
       "      <td>1.0</td>\n",
       "      <td>0.0</td>\n",
       "    </tr>\n",
       "    <tr>\n",
       "      <th>3546650</th>\n",
       "      <td>10792.26</td>\n",
       "      <td>14286.24</td>\n",
       "      <td>3493.98</td>\n",
       "      <td>0.0</td>\n",
       "      <td>0.0</td>\n",
       "      <td>0.0</td>\n",
       "      <td>0.0</td>\n",
       "      <td>0.0</td>\n",
       "      <td>0.0</td>\n",
       "      <td>0.0</td>\n",
       "      <td>1.0</td>\n",
       "      <td>0.0</td>\n",
       "    </tr>\n",
       "    <tr>\n",
       "      <th>3546651</th>\n",
       "      <td>6796.17</td>\n",
       "      <td>824941.00</td>\n",
       "      <td>818144.83</td>\n",
       "      <td>0.0</td>\n",
       "      <td>0.0</td>\n",
       "      <td>0.0</td>\n",
       "      <td>0.0</td>\n",
       "      <td>0.0</td>\n",
       "      <td>0.0</td>\n",
       "      <td>0.0</td>\n",
       "      <td>1.0</td>\n",
       "      <td>0.0</td>\n",
       "    </tr>\n",
       "    <tr>\n",
       "      <th>3546652</th>\n",
       "      <td>131307.53</td>\n",
       "      <td>11383.00</td>\n",
       "      <td>142690.53</td>\n",
       "      <td>0.0</td>\n",
       "      <td>0.0</td>\n",
       "      <td>0.0</td>\n",
       "      <td>0.0</td>\n",
       "      <td>1.0</td>\n",
       "      <td>0.0</td>\n",
       "      <td>0.0</td>\n",
       "      <td>0.0</td>\n",
       "      <td>0.0</td>\n",
       "    </tr>\n",
       "  </tbody>\n",
       "</table>\n",
       "<p>3546653 rows × 12 columns</p>\n",
       "</div>\n",
       "      <button class=\"colab-df-convert\" onclick=\"convertToInteractive('df-22004ab0-6cd2-4e50-80cf-a721d8c28a13')\"\n",
       "              title=\"Convert this dataframe to an interactive table.\"\n",
       "              style=\"display:none;\">\n",
       "        \n",
       "  <svg xmlns=\"http://www.w3.org/2000/svg\" height=\"24px\"viewBox=\"0 0 24 24\"\n",
       "       width=\"24px\">\n",
       "    <path d=\"M0 0h24v24H0V0z\" fill=\"none\"/>\n",
       "    <path d=\"M18.56 5.44l.94 2.06.94-2.06 2.06-.94-2.06-.94-.94-2.06-.94 2.06-2.06.94zm-11 1L8.5 8.5l.94-2.06 2.06-.94-2.06-.94L8.5 2.5l-.94 2.06-2.06.94zm10 10l.94 2.06.94-2.06 2.06-.94-2.06-.94-.94-2.06-.94 2.06-2.06.94z\"/><path d=\"M17.41 7.96l-1.37-1.37c-.4-.4-.92-.59-1.43-.59-.52 0-1.04.2-1.43.59L10.3 9.45l-7.72 7.72c-.78.78-.78 2.05 0 2.83L4 21.41c.39.39.9.59 1.41.59.51 0 1.02-.2 1.41-.59l7.78-7.78 2.81-2.81c.8-.78.8-2.07 0-2.86zM5.41 20L4 18.59l7.72-7.72 1.47 1.35L5.41 20z\"/>\n",
       "  </svg>\n",
       "      </button>\n",
       "      \n",
       "  <style>\n",
       "    .colab-df-container {\n",
       "      display:flex;\n",
       "      flex-wrap:wrap;\n",
       "      gap: 12px;\n",
       "    }\n",
       "\n",
       "    .colab-df-convert {\n",
       "      background-color: #E8F0FE;\n",
       "      border: none;\n",
       "      border-radius: 50%;\n",
       "      cursor: pointer;\n",
       "      display: none;\n",
       "      fill: #1967D2;\n",
       "      height: 32px;\n",
       "      padding: 0 0 0 0;\n",
       "      width: 32px;\n",
       "    }\n",
       "\n",
       "    .colab-df-convert:hover {\n",
       "      background-color: #E2EBFA;\n",
       "      box-shadow: 0px 1px 2px rgba(60, 64, 67, 0.3), 0px 1px 3px 1px rgba(60, 64, 67, 0.15);\n",
       "      fill: #174EA6;\n",
       "    }\n",
       "\n",
       "    [theme=dark] .colab-df-convert {\n",
       "      background-color: #3B4455;\n",
       "      fill: #D2E3FC;\n",
       "    }\n",
       "\n",
       "    [theme=dark] .colab-df-convert:hover {\n",
       "      background-color: #434B5C;\n",
       "      box-shadow: 0px 1px 3px 1px rgba(0, 0, 0, 0.15);\n",
       "      filter: drop-shadow(0px 1px 2px rgba(0, 0, 0, 0.3));\n",
       "      fill: #FFFFFF;\n",
       "    }\n",
       "  </style>\n",
       "\n",
       "      <script>\n",
       "        const buttonEl =\n",
       "          document.querySelector('#df-22004ab0-6cd2-4e50-80cf-a721d8c28a13 button.colab-df-convert');\n",
       "        buttonEl.style.display =\n",
       "          google.colab.kernel.accessAllowed ? 'block' : 'none';\n",
       "\n",
       "        async function convertToInteractive(key) {\n",
       "          const element = document.querySelector('#df-22004ab0-6cd2-4e50-80cf-a721d8c28a13');\n",
       "          const dataTable =\n",
       "            await google.colab.kernel.invokeFunction('convertToInteractive',\n",
       "                                                     [key], {});\n",
       "          if (!dataTable) return;\n",
       "\n",
       "          const docLinkHtml = 'Like what you see? Visit the ' +\n",
       "            '<a target=\"_blank\" href=https://colab.research.google.com/notebooks/data_table.ipynb>data table notebook</a>'\n",
       "            + ' to learn more about interactive tables.';\n",
       "          element.innerHTML = '';\n",
       "          dataTable['output_type'] = 'display_data';\n",
       "          await google.colab.output.renderOutput(dataTable, element);\n",
       "          const docLink = document.createElement('div');\n",
       "          docLink.innerHTML = docLinkHtml;\n",
       "          element.appendChild(docLink);\n",
       "        }\n",
       "      </script>\n",
       "    </div>\n",
       "  </div>\n",
       "  "
      ],
      "text/plain": [
       "            amount  oldbalanceOrg  newbalanceOrig  oldbalanceDest  \\\n",
       "0          9839.64      170136.00       160296.36             0.0   \n",
       "1          1864.28       21249.00        19384.72             0.0   \n",
       "2           181.00         181.00            0.00             0.0   \n",
       "3           181.00         181.00            0.00         21182.0   \n",
       "4         11668.14       41554.00        29885.86             0.0   \n",
       "...            ...            ...             ...             ...   \n",
       "3546648    3917.30       21012.00        17094.70             0.0   \n",
       "3546649    7829.76       22116.00        14286.24             0.0   \n",
       "3546650   10792.26       14286.24         3493.98             0.0   \n",
       "3546651    6796.17      824941.00       818144.83             0.0   \n",
       "3546652  131307.53       11383.00       142690.53             0.0   \n",
       "\n",
       "         newbalanceDest  isFraud  isFlaggedFraud    0    1    2    3    4  \n",
       "0                   0.0      0.0             0.0  0.0  0.0  0.0  1.0  0.0  \n",
       "1                   0.0      0.0             0.0  0.0  0.0  0.0  1.0  0.0  \n",
       "2                   0.0      1.0             0.0  0.0  0.0  0.0  0.0  1.0  \n",
       "3                   0.0      1.0             0.0  0.0  1.0  0.0  0.0  0.0  \n",
       "4                   0.0      0.0             0.0  0.0  0.0  0.0  1.0  0.0  \n",
       "...                 ...      ...             ...  ...  ...  ...  ...  ...  \n",
       "3546648             0.0      0.0             0.0  0.0  0.0  0.0  1.0  0.0  \n",
       "3546649             0.0      0.0             0.0  0.0  0.0  0.0  1.0  0.0  \n",
       "3546650             0.0      0.0             0.0  0.0  0.0  0.0  1.0  0.0  \n",
       "3546651             0.0      0.0             0.0  0.0  0.0  0.0  1.0  0.0  \n",
       "3546652             0.0      0.0             0.0  1.0  0.0  0.0  0.0  0.0  \n",
       "\n",
       "[3546653 rows x 12 columns]"
      ]
     },
     "execution_count": 16,
     "metadata": {},
     "output_type": "execute_result"
    }
   ],
   "source": [
    "df.dropna()"
   ]
  },
  {
   "cell_type": "markdown",
   "id": "d5e96f85",
   "metadata": {
    "id": "d5e96f85"
   },
   "source": [
    "###### There are no missing values"
   ]
  },
  {
   "cell_type": "code",
   "execution_count": 15,
   "id": "6f993019",
   "metadata": {
    "colab": {
     "base_uri": "https://localhost:8080/",
     "height": 725
    },
    "id": "6f993019",
    "outputId": "ff1f7bf0-e1cd-4c35-ab8c-9a06815b7959"
   },
   "outputs": [
    {
     "data": {
      "text/plain": [
       "<Axes: >"
      ]
     },
     "execution_count": 15,
     "metadata": {},
     "output_type": "execute_result"
    },
    {
     "data": {
      "image/png": "[encoded data removed]",
      "text/plain": [
       "<Figure size 1000x700 with 2 Axes>"
      ]
     },
     "metadata": {},
     "output_type": "display_data"
    }
   ],
   "source": [
    "plt.figure(figsize=(10,7))\n",
    "sns.heatmap(df.isnull(),cmap='brg')"
   ]
  },
  {
   "cell_type": "markdown",
   "id": "MzRRtbfj1tIi",
   "metadata": {
    "id": "MzRRtbfj1tIi"
   },
   "source": [
    "visualizing the outliers by using boxplot"
   ]
  },
  {
   "cell_type": "code",
   "execution_count": null,
   "id": "5CfXVpFC10rg",
   "metadata": {
    "id": "5CfXVpFC10rg"
   },
   "outputs": [],
   "source": [
    "#visualize the outliers using boxplot\n",
    "plt.figure(figsize =(20,35))\n",
    "graph = 1\n",
    "\n",
    "for column in df:\n",
    "    if graph<=10:\n",
    "        plt.subplot(5,2,graph)\n",
    "        ax = sns.boxplot(data=df[column])\n",
    "        plt.xlabel(column,fontsize=15)\n",
    "    graph+=1\n",
    "plt.show()"
   ]
  },
  {
   "cell_type": "code",
   "execution_count": null,
   "id": "197f42ce",
   "metadata": {
    "id": "197f42ce"
   },
   "outputs": [],
   "source": [
    "# find the IQR to identify outliers\n",
    "\n",
    "#1st Quantile\n",
    "\n",
    "Q1 = df.quantile(0.10)\n",
    "\n",
    "# 3rd Quantile\n",
    "\n",
    "Q3 = df.quantile(0.90)\n",
    "\n",
    "#IQR ( Inter Quantile Range)\n",
    "\n",
    "IQR = Q3-Q1"
   ]
  },
  {
   "cell_type": "code",
   "execution_count": null,
   "id": "awSSQ23m6pUv",
   "metadata": {
    "id": "awSSQ23m6pUv"
   },
   "outputs": [],
   "source": [
    "#validating one outlier\n",
    "preg_high = (Q3.amount + (1.5*IQR.amount))\n",
    "preg_high"
   ]
  },
  {
   "cell_type": "code",
   "execution_count": null,
   "id": "qR6RYZCj7h0X",
   "metadata": {
    "id": "qR6RYZCj7h0X"
   },
   "outputs": [],
   "source": [
    "# Check the indexes whcih have higher values\n",
    "index = np.where(df['amount']>preg_high)\n",
    "index"
   ]
  },
  {
   "cell_type": "code",
   "execution_count": null,
   "id": "NRr3OzNT70Lq",
   "metadata": {
    "id": "NRr3OzNT70Lq"
   },
   "outputs": [],
   "source": [
    "df= df.drop(df.index[index])\n",
    "df.shape"
   ]
  },
  {
   "cell_type": "code",
   "execution_count": null,
   "id": "EoY5n9w88c59",
   "metadata": {
    "id": "EoY5n9w88c59"
   },
   "outputs": [],
   "source": [
    "df.reset_index()"
   ]
  },
  {
   "cell_type": "code",
   "execution_count": null,
   "id": "MKrAN4L-8HQe",
   "metadata": {
    "id": "MKrAN4L-8HQe"
   },
   "outputs": [],
   "source": [
    "#validating one outlier\n",
    "preg_high = (Q3.oldbalanceOrg + (1.5*IQR.oldbalanceOrg))\n",
    "preg_high"
   ]
  },
  {
   "cell_type": "code",
   "execution_count": null,
   "id": "LNGExOXM-dCX",
   "metadata": {
    "id": "LNGExOXM-dCX"
   },
   "outputs": [],
   "source": [
    "# Check the indexes whcih have higher values\n",
    "index = np.where(df['oldbalanceOrg']>preg_high)\n",
    "index"
   ]
  },
  {
   "cell_type": "code",
   "execution_count": null,
   "id": "5V8gAjaC_bzF",
   "metadata": {
    "id": "5V8gAjaC_bzF"
   },
   "outputs": [],
   "source": [
    "df= df.drop(df.index[index])\n",
    "df.shape"
   ]
  },
  {
   "cell_type": "code",
   "execution_count": null,
   "id": "HejReSJR_mlj",
   "metadata": {
    "id": "HejReSJR_mlj"
   },
   "outputs": [],
   "source": [
    "df.reset_index()"
   ]
  },
  {
   "cell_type": "code",
   "execution_count": null,
   "id": "mKqjKbRe-djE",
   "metadata": {
    "id": "mKqjKbRe-djE"
   },
   "outputs": [],
   "source": [
    "#validating one outlier\n",
    "preg_high = (Q3.newbalanceOrig + (1.5*IQR.newbalanceOrig))\n",
    "preg_high"
   ]
  },
  {
   "cell_type": "code",
   "execution_count": null,
   "id": "9znpgmTr-duf",
   "metadata": {
    "id": "9znpgmTr-duf"
   },
   "outputs": [],
   "source": [
    "# Check the indexes whcih have higher values\n",
    "index = np.where(df['newbalanceOrig']>preg_high)\n",
    "index"
   ]
  },
  {
   "cell_type": "code",
   "execution_count": null,
   "id": "EVkVy3hC-dz6",
   "metadata": {
    "id": "EVkVy3hC-dz6"
   },
   "outputs": [],
   "source": [
    "df= df.drop(df.index[index])\n",
    "df.shape"
   ]
  },
  {
   "cell_type": "code",
   "execution_count": null,
   "id": "S8aZzlnr-d4p",
   "metadata": {
    "id": "S8aZzlnr-d4p"
   },
   "outputs": [],
   "source": [
    "df.reset_index()"
   ]
  },
  {
   "cell_type": "code",
   "execution_count": null,
   "id": "Ieef34Rd-d9M",
   "metadata": {
    "id": "Ieef34Rd-d9M"
   },
   "outputs": [],
   "source": [
    "#validating one outlier\n",
    "preg_high = (Q3.oldbalanceDest + (1.5*IQR.oldbalanceDest))\n",
    "preg_high"
   ]
  },
  {
   "cell_type": "code",
   "execution_count": null,
   "id": "sw2nb2e1-eBz",
   "metadata": {
    "id": "sw2nb2e1-eBz"
   },
   "outputs": [],
   "source": [
    "# Check the indexes whcih have higher values\n",
    "index = np.where(df['oldbalanceDest']>preg_high)\n",
    "index"
   ]
  },
  {
   "cell_type": "code",
   "execution_count": null,
   "id": "ZI3bt9pV-eFV",
   "metadata": {
    "id": "ZI3bt9pV-eFV"
   },
   "outputs": [],
   "source": [
    "df= df.drop(df.index[index])\n",
    "df.shape"
   ]
  },
  {
   "cell_type": "code",
   "execution_count": null,
   "id": "IeQfEAKK-eJ7",
   "metadata": {
    "id": "IeQfEAKK-eJ7"
   },
   "outputs": [],
   "source": [
    "df.reset_index()"
   ]
  },
  {
   "cell_type": "code",
   "execution_count": null,
   "id": "hIWVZmAv-eOR",
   "metadata": {
    "id": "hIWVZmAv-eOR"
   },
   "outputs": [],
   "source": [
    "#validating one outlier\n",
    "preg_high = (Q3.newbalanceDest + (1.5*IQR.newbalanceDest))\n",
    "preg_high"
   ]
  },
  {
   "cell_type": "code",
   "execution_count": null,
   "id": "DS_yBK0RFAC0",
   "metadata": {
    "id": "DS_yBK0RFAC0"
   },
   "outputs": [],
   "source": [
    "# Check the indexes whcih have higher values\n",
    "index = np.where(df['newbalanceDest']>preg_high)\n",
    "index"
   ]
  },
  {
   "cell_type": "code",
   "execution_count": null,
   "id": "apo_KAhIFAHw",
   "metadata": {
    "id": "apo_KAhIFAHw"
   },
   "outputs": [],
   "source": [
    "df= df.drop(df.index[index])\n",
    "df.shape"
   ]
  },
  {
   "cell_type": "code",
   "execution_count": null,
   "id": "Q2avQ8DsFAM4",
   "metadata": {
    "id": "Q2avQ8DsFAM4"
   },
   "outputs": [],
   "source": [
    "df.reset_index()"
   ]
  },
  {
   "cell_type": "code",
   "execution_count": null,
   "id": "BqhFSnntFAR1",
   "metadata": {
    "id": "BqhFSnntFAR1"
   },
   "outputs": [],
   "source": [
    "df.info()"
   ]
  },
  {
   "cell_type": "code",
   "execution_count": null,
   "id": "VOq2ulVoFAYC",
   "metadata": {
    "id": "VOq2ulVoFAYC"
   },
   "outputs": [],
   "source": [
    "#validating one outlier\n",
    "preg_high = (Q3.isFraud  + (1.5*IQR.isFraud ))\n",
    "preg_high"
   ]
  },
  {
   "cell_type": "code",
   "execution_count": null,
   "id": "39dFL7JfFAdE",
   "metadata": {
    "id": "39dFL7JfFAdE"
   },
   "outputs": [],
   "source": [
    "#Let's see how data is distributed for every column\n",
    "plt.figure(figsize = (20,35) , facecolor='red')\n",
    "plotnumber=1\n",
    "\n",
    "for columns in df:\n",
    "    if plotnumber <=10:\n",
    "        ax = plt.subplot(5,2,plotnumber)\n",
    "        sns.distplot(df[columns])\n",
    "        plt.xlabel(columns,fontsize=20)\n",
    "    plotnumber+=1\n",
    "    \n",
    "plt.tight_layout()"
   ]
  },
  {
   "cell_type": "markdown",
   "id": "uHrT4x7DGZjY",
   "metadata": {
    "id": "uHrT4x7DGZjY"
   },
   "source": [
    "After Removing the outliers the new data set is "
   ]
  },
  {
   "cell_type": "code",
   "execution_count": null,
   "id": "u3Lvn8K-FAiM",
   "metadata": {
    "id": "u3Lvn8K-FAiM"
   },
   "outputs": [],
   "source": [
    "#visualize the outliers using boxplot\n",
    "plt.figure(figsize =(20,35))\n",
    "graph = 1\n",
    "\n",
    "for column in df:\n",
    "    if graph<=10:\n",
    "        plt.subplot(5,2,graph)\n",
    "        ax = sns.boxplot(data=df[column])\n",
    "        plt.xlabel(column,fontsize=15)\n",
    "    graph+=1\n",
    "plt.show()"
   ]
  },
  {
   "cell_type": "code",
   "execution_count": null,
   "id": "c2c7c61f",
   "metadata": {
    "id": "c2c7c61f"
   },
   "outputs": [],
   "source": [
    "df.shape"
   ]
  },
  {
   "cell_type": "code",
   "execution_count": null,
   "id": "s1iCMJNXuZRT",
   "metadata": {
    "id": "s1iCMJNXuZRT"
   },
   "outputs": [],
   "source": [
    "df[\"finalbalanceOrig\"] = df['newbalanceOrig'] - df['oldbalanceOrg']\n",
    "df[\"finalbalanceDest\"] = df['newbalanceDest'] - df['oldbalanceDest']"
   ]
  },
  {
   "cell_type": "code",
   "execution_count": null,
   "id": "JwC97eXiuvd_",
   "metadata": {
    "id": "JwC97eXiuvd_"
   },
   "outputs": [],
   "source": [
    "df = df.drop(columns=['oldbalanceOrg','newbalanceOrig', 'oldbalanceDest', 'newbalanceDest'])"
   ]
  },
  {
   "cell_type": "markdown",
   "id": "Ar3_lHA0ymM0",
   "metadata": {
    "id": "Ar3_lHA0ymM0"
   },
   "source": [
    "**Displaying the heatmap data.**"
   ]
  },
  {
   "cell_type": "code",
   "execution_count": null,
   "id": "ud3NbRjlsvTg",
   "metadata": {
    "id": "ud3NbRjlsvTg"
   },
   "outputs": [],
   "source": [
    "def corr_heatmap(df):\n",
    "    corltn = df.corr()\n",
    "\n",
    "    fig, ax = plt.subplots(figsize=(10,10))\n",
    "    sns.heatmap(corltn, vmax=1.0, fmt='.2f',\n",
    "                square=True, linewidths=.5, annot=True, cbar_kws={\"shrink\": .70})\n",
    "    plt.show();\n",
    "    \n",
    "corr_heatmap(df)"
   ]
  },
  {
   "cell_type": "markdown",
   "id": "_sOsZeO6tmON",
   "metadata": {
    "id": "_sOsZeO6tmON"
   },
   "source": [
    "**Conclusion from correlation heatmap**\n",
    "\n",
    "1. From the above heatmap, it is clear that the feature \n",
    "'oldbalanceOrg' has high correlation with 'newbalanceorg' and feature 'oldbalanceDest' has high correlation with 'newbalanceDest'.\n",
    "\n",
    "2. Therefore, we can drop either one of them in both cases.\n",
    "\n",
    "3. But here, I am finding new information which is the difference between the new balance and the old balance for both 'Org' and 'Dest' and storing them under the new column names 'finalbalanceOrig' and 'finalbalanceDest' respectively.\n",
    "\n",
    "4. Finally, I am droping the original columns 'oldbalanceOrg','newbalanceorg','oldbalanceDest' and 'newbalanceDest'.\n",
    "\n",
    "\n",
    "\n"
   ]
  },
  {
   "cell_type": "markdown",
   "id": "5X90nTlsu8eL",
   "metadata": {
    "id": "5X90nTlsu8eL"
   },
   "source": [
    "Display the Dataset"
   ]
  },
  {
   "cell_type": "code",
   "execution_count": null,
   "id": "bv2cAxEXvFWk",
   "metadata": {
    "id": "bv2cAxEXvFWk"
   },
   "outputs": [],
   "source": [
    "df.head()"
   ]
  },
  {
   "cell_type": "markdown",
   "id": "_HJfFYYjO11K",
   "metadata": {
    "id": "_HJfFYYjO11K"
   },
   "source": [
    "MODEL DEVELOPMENT"
   ]
  },
  {
   "cell_type": "markdown",
   "id": "cuaYsXpiPQyl",
   "metadata": {
    "id": "cuaYsXpiPQyl"
   },
   "source": [
    "Separating the feature and the Label columns"
   ]
  },
  {
   "cell_type": "code",
   "execution_count": null,
   "id": "768b7d26",
   "metadata": {
    "id": "768b7d26"
   },
   "outputs": [],
   "source": [
    "#Finding relationship we want to keep only those feature which have relationship with labels\n",
    "X = df.drop(columns = [\"isFraud\"])\n",
    "y = df[\"isFraud\"]"
   ]
  },
  {
   "cell_type": "code",
   "execution_count": null,
   "id": "qu8FUhalPckT",
   "metadata": {
    "id": "qu8FUhalPckT"
   },
   "outputs": [],
   "source": [
    "X.head()"
   ]
  },
  {
   "cell_type": "code",
   "execution_count": null,
   "id": "PqLqBXhXPiQa",
   "metadata": {
    "id": "PqLqBXhXPiQa"
   },
   "outputs": [],
   "source": [
    "y.head()"
   ]
  },
  {
   "cell_type": "code",
   "execution_count": null,
   "id": "kF6seJYNTnKd",
   "metadata": {
    "id": "kF6seJYNTnKd"
   },
   "outputs": [],
   "source": [
    "X.columns = X.columns.astype(str)"
   ]
  },
  {
   "cell_type": "code",
   "execution_count": null,
   "id": "kdrbw7hBTsok",
   "metadata": {
    "id": "kdrbw7hBTsok"
   },
   "outputs": [],
   "source": [
    "from sklearn.preprocessing import StandardScaler\n",
    "scalar = StandardScaler()\n",
    "#X.columns = X.columns.astype(str)\n",
    "X_scalar = scalar.fit_transform(X)"
   ]
  },
  {
   "cell_type": "markdown",
   "id": "fftpw3u_SCAd",
   "metadata": {
    "id": "fftpw3u_SCAd"
   },
   "source": [
    "Splitting the total dataset into training(70%) and testing dataset(30%)"
   ]
  },
  {
   "cell_type": "code",
   "execution_count": null,
   "id": "bKhzxuctUXnf",
   "metadata": {
    "id": "bKhzxuctUXnf"
   },
   "outputs": [],
   "source": [
    "from sklearn import preprocessing\n",
    "from sklearn.preprocessing import StandardScaler\n",
    "import matplotlib.pyplot as plt \n",
    "plt.rc(\"font\", size=14)\n",
    "from sklearn.linear_model import LogisticRegression\n",
    "from sklearn.model_selection import train_test_split, GridSearchCV\n",
    "from statsmodels.stats.outliers_influence import variance_inflation_factor\n",
    "from sklearn.metrics import accuracy_score,confusion_matrix, roc_curve,roc_auc_score\n",
    "sns.set(style=\"white\")\n",
    "sns.set(style=\"whitegrid\", color_codes=True)\n",
    "from sklearn.metrics import classification_report"
   ]
  },
  {
   "cell_type": "code",
   "execution_count": null,
   "id": "pVoH6IyTPvMJ",
   "metadata": {
    "id": "pVoH6IyTPvMJ"
   },
   "outputs": [],
   "source": [
    "from sklearn.model_selection import train_test_split\n",
    "x_train,x_test,y_train,y_test=train_test_split(X_scalar,y, test_size = 0.3, random_state = 355)"
   ]
  },
  {
   "cell_type": "code",
   "execution_count": null,
   "id": "XvRvgkWVT6Q7",
   "metadata": {
    "id": "XvRvgkWVT6Q7"
   },
   "outputs": [],
   "source": [
    "def metric_score (clf, x_train,x_test,y_train,y_test, train = True):\n",
    "    if train:\n",
    "        y_pred = clf.predict(x_train)\n",
    "        print(\"\\n =================Train Result=====================\")\n",
    "        print(f\"Accuracy Score : {accuracy_score(y_train,y_pred)*100:.2f}%\")\n",
    "    elif train == False:\n",
    "        pred = clf.predict(x_test)\n",
    "        print(\"\\n==================Test Result=======================\")\n",
    "        print(f\"Accuracy Score : {accuracy_score(y_test,pred)*100:.2f}%\")\n",
    "        \n",
    "        print(\"\\n \\n Test Classification Report\\n\",classification_report(y_test,pred,digits=2))"
   ]
  },
  {
   "cell_type": "code",
   "execution_count": null,
   "id": "JSlBSdwIUbTV",
   "metadata": {
    "id": "JSlBSdwIUbTV"
   },
   "outputs": [],
   "source": [
    "from sklearn.neighbors import KNeighborsClassifier"
   ]
  },
  {
   "cell_type": "code",
   "execution_count": null,
   "id": "05eaEz1qXt5a",
   "metadata": {
    "id": "05eaEz1qXt5a"
   },
   "outputs": [],
   "source": [
    "# Model Confidence / Accuracy\n",
    "#Initiate KNeighborsClassifier\n",
    "knn = KNeighborsClassifier()"
   ]
  },
  {
   "cell_type": "code",
   "execution_count": null,
   "id": "pwfpPKOXXxbk",
   "metadata": {
    "id": "pwfpPKOXXxbk"
   },
   "outputs": [],
   "source": [
    "# Model Training\n",
    "knn.fit(x_train,y_train)"
   ]
  },
  {
   "cell_type": "code",
   "execution_count": null,
   "id": "K5bX6LC6X4Oi",
   "metadata": {
    "id": "K5bX6LC6X4Oi"
   },
   "outputs": [],
   "source": [
    "# call the function and pass dataset to check train and test score\n",
    "metric_score(knn,x_train,x_test,y_train,y_test, train = True)\n",
    "metric_score(knn,x_train,x_test,y_train,y_test, train = False)\n"
   ]
  },
  {
   "cell_type": "code",
   "execution_count": null,
   "id": "4jLT4ZiEYED_",
   "metadata": {
    "id": "4jLT4ZiEYED_"
   },
   "outputs": [],
   "source": [
    "from sklearn.model_selection import KFold, cross_val_score"
   ]
  },
  {
   "cell_type": "code",
   "execution_count": null,
   "id": "AlxtihOXWKwT",
   "metadata": {
    "id": "AlxtihOXWKwT"
   },
   "outputs": [],
   "source": [
    "k_f = KFold(n_splits = 3)"
   ]
  },
  {
   "cell_type": "code",
   "execution_count": null,
   "id": "kP27f0IdWOkI",
   "metadata": {
    "id": "kP27f0IdWOkI"
   },
   "outputs": [],
   "source": [
    "k_f"
   ]
  },
  {
   "cell_type": "code",
   "execution_count": null,
   "id": "9WEER_XzWPtT",
   "metadata": {
    "id": "9WEER_XzWPtT"
   },
   "outputs": [],
   "source": [
    "#Cross Validation Score to check if the model is overfitting \n",
    "cross_val_score(knn, X_scalar,y,cv = 5)\n",
    "cross_val_score(knn,X_scalar,y,cv = 5).mean()"
   ]
  },
  {
   "cell_type": "markdown",
   "id": "N4-2SOUQWaH2",
   "metadata": {
    "id": "N4-2SOUQWaH2"
   },
   "source": [
    "using GridSearchCV for the bet parameter to improve the accuracy"
   ]
  },
  {
   "cell_type": "code",
   "execution_count": null,
   "id": "Sb92O1_IWeSz",
   "metadata": {
    "id": "Sb92O1_IWeSz"
   },
   "outputs": [],
   "source": [
    "from sklearn.model_selection import GridSearchCV"
   ]
  },
  {
   "cell_type": "code",
   "execution_count": null,
   "id": "52MZunoWWj2r",
   "metadata": {
    "id": "52MZunoWWj2r"
   },
   "outputs": [],
   "source": [
    "param_grid = {'algorithm' : ['kd_tree','brute'],\n",
    "             'leaf_size' : [3,5,6,7,8],\n",
    "             'n_neighbors' : [3,5,7,9,11,13]\n",
    "             }"
   ]
  },
  {
   "cell_type": "code",
   "execution_count": null,
   "id": "tBO7Ws22WsW8",
   "metadata": {
    "id": "tBO7Ws22WsW8"
   },
   "outputs": [],
   "source": [
    "gridsearch = GridSearchCV(estimator = knn,param_grid = param_grid)"
   ]
  },
  {
   "cell_type": "code",
   "execution_count": null,
   "id": "KPjmLzxaWuOG",
   "metadata": {
    "id": "KPjmLzxaWuOG"
   },
   "outputs": [],
   "source": [
    "gridsearch.fit(x_train,y_train)"
   ]
  },
  {
   "cell_type": "code",
   "execution_count": null,
   "id": "PCqBBiDhW2m2",
   "metadata": {
    "id": "PCqBBiDhW2m2"
   },
   "outputs": [],
   "source": [
    "GridSearchCV(estimator=KNeighborsClassifier(),\n",
    "             param_grid={'algorithm': ['kd_tree', 'brute'],\n",
    "                         'leaf_size': [3, 5, 6, 7, 8],\n",
    "                         'n_neighbors': [3, 5, 7, 9, 11, 13]})"
   ]
  },
  {
   "cell_type": "code",
   "execution_count": null,
   "id": "w2qtVjiUW2wc",
   "metadata": {
    "id": "w2qtVjiUW2wc"
   },
   "outputs": [],
   "source": [
    "gridsearch.best_params_"
   ]
  },
  {
   "cell_type": "code",
   "execution_count": null,
   "id": "rBjRNFMtXCyf",
   "metadata": {
    "id": "rBjRNFMtXCyf"
   },
   "outputs": [],
   "source": [
    "# We will use the parameters in our K-NN algorithm and check if accuracy is increasing.\n",
    "knn = KNeighborsClassifier(algorithm = 'kd_tree',leaf_size =3,n_neighbors = 7)"
   ]
  },
  {
   "cell_type": "code",
   "execution_count": null,
   "id": "lV-zGeZjXGkx",
   "metadata": {
    "id": "lV-zGeZjXGkx"
   },
   "outputs": [],
   "source": [
    "knn.fit(x_train,y_train)"
   ]
  },
  {
   "cell_type": "code",
   "execution_count": null,
   "id": "Flu5hJS2XHdD",
   "metadata": {
    "id": "Flu5hJS2XHdD"
   },
   "outputs": [],
   "source": [
    "# call the function and pass dataset to check train and test score\n",
    "# This is for Training Score\n",
    "metric_score(knn,x_train,x_test,y_train,y_test, train = True)\n",
    "#This is for Testing Score\n",
    "metric_score(knn,x_train,x_test,y_train,y_test, train = False)"
   ]
  },
  {
   "cell_type": "code",
   "execution_count": null,
   "id": "kwT9SQDnXb-S",
   "metadata": {
    "id": "kwT9SQDnXb-S"
   },
   "outputs": [],
   "source": [
    "# If we want to check the confustion_matrix we can check\n",
    "y_pred = knn.predict(x_test)\n",
    "cfm = confusion_matrix (y_test,y_pred)\n",
    "cfm"
   ]
  },
  {
   "cell_type": "code",
   "execution_count": null,
   "id": "SkjNTRLsXgC1",
   "metadata": {
    "id": "SkjNTRLsXgC1"
   },
   "outputs": [],
   "source": [
    "X_scalar.shape[0]"
   ]
  },
  {
   "cell_type": "code",
   "execution_count": null,
   "id": "xMJUZxqsXkKV",
   "metadata": {
    "id": "xMJUZxqsXkKV"
   },
   "outputs": [],
   "source": [
    "#Finding Variance inflation factor in each scaled columns\n",
    "vif = pd.DataFrame()\n",
    "vif[\"vif\"]=[variance_inflation_factor(X_scalar,i) for i in range (X_scalar.shape[1])]\n",
    "vif[\"features\"]=X.columns\n",
    "vif"
   ]
  },
  {
   "cell_type": "markdown",
   "id": "q4t_qFiSXsNh",
   "metadata": {
    "id": "q4t_qFiSXsNh"
   },
   "source": [
    "**Creation of Train and Test Dataset Using Optimum Parameters**"
   ]
  },
  {
   "cell_type": "code",
   "execution_count": null,
   "id": "YrvFVStGXvUX",
   "metadata": {
    "id": "YrvFVStGXvUX"
   },
   "outputs": [],
   "source": [
    "#Now Split our data in test(30%) and training(70%) set\n",
    "x_train,x_test,y_train,y_test=train_test_split(X_scalar,y, test_size = 0.3, random_state = 355)"
   ]
  },
  {
   "cell_type": "code",
   "execution_count": null,
   "id": "X4b9EUftX9ja",
   "metadata": {
    "id": "X4b9EUftX9ja"
   },
   "outputs": [],
   "source": [
    "log_reg=LogisticRegression()\n",
    "log_reg.fit(x_train,y_train)"
   ]
  },
  {
   "cell_type": "code",
   "execution_count": null,
   "id": "yorEUlEFYFOD",
   "metadata": {
    "id": "yorEUlEFYFOD"
   },
   "outputs": [],
   "source": [
    "#Let's see how well our model perform on the test data set\n",
    "x_test"
   ]
  },
  {
   "cell_type": "code",
   "execution_count": null,
   "id": "zigR5GG6YHJf",
   "metadata": {
    "id": "zigR5GG6YHJf"
   },
   "outputs": [],
   "source": [
    "y_pred = log_reg.predict(x_test)"
   ]
  },
  {
   "cell_type": "code",
   "execution_count": null,
   "id": "eWxpll3kYNHo",
   "metadata": {
    "id": "eWxpll3kYNHo"
   },
   "outputs": [],
   "source": [
    "y_pred"
   ]
  },
  {
   "cell_type": "code",
   "execution_count": null,
   "id": "runonctyYRGY",
   "metadata": {
    "id": "runonctyYRGY"
   },
   "outputs": [],
   "source": [
    "#Model Accuracy\n",
    "accuracy = accuracy_score(y_test,y_pred)\n",
    "accuracy"
   ]
  },
  {
   "cell_type": "code",
   "execution_count": null,
   "id": "kHWPKHCjYUb9",
   "metadata": {
    "id": "kHWPKHCjYUb9"
   },
   "outputs": [],
   "source": [
    "# Confusion Matrix\n",
    "conf_mat = confusion_matrix(y_test,y_pred)\n",
    "conf_mat"
   ]
  },
  {
   "cell_type": "code",
   "execution_count": null,
   "id": "ZlNjH61_YfaG",
   "metadata": {
    "id": "ZlNjH61_YfaG"
   },
   "outputs": [],
   "source": [
    "# ROC curve\n",
    "fpr,tpr, thresholds = roc_curve(y_test,y_pred)\n",
    "# Threshold [0] means no innstances predicted, it should be read from 0 to max\n",
    "print('Threshold = ',thresholds)\n",
    "print('True Positive Rate = ', tpr)\n",
    "print(\"False Positive Rate = \", fpr)"
   ]
  },
  {
   "cell_type": "code",
   "execution_count": null,
   "id": "qlrHqDLoYks9",
   "metadata": {
    "id": "qlrHqDLoYks9"
   },
   "outputs": [],
   "source": [
    "plt.plot(fpr,tpr, color = 'orange', label = 'ROC')\n",
    "plt.plot([0,1],[0,1], color = 'darkblue', linestyle = '--')\n",
    "plt.xlabel('False Positive Rate')\n",
    "plt.ylabel('True Positive Rate')\n",
    "plt.title('Receive Operating Characteristic Curve')\n",
    "plt.legend()\n",
    "plt.show()"
   ]
  },
  {
   "cell_type": "code",
   "execution_count": null,
   "id": "ZiqYsG3AYrft",
   "metadata": {
    "id": "ZiqYsG3AYrft"
   },
   "outputs": [],
   "source": [
    "# How much area it is covering (AUC) \n",
    "auc_score=roc_auc_score(y_test,y_pred)\n",
    "print(auc_score)"
   ]
  },
  {
   "cell_type": "markdown",
   "id": "7Mr8AkpyY28V",
   "metadata": {
    "id": "7Mr8AkpyY28V"
   },
   "source": [
    "**Let's Plot and Visualize**"
   ]
  },
  {
   "cell_type": "code",
   "execution_count": null,
   "id": "s3vnNCQFY43X",
   "metadata": {
    "id": "s3vnNCQFY43X"
   },
   "outputs": [],
   "source": [
    "y_pred = log_reg.predict(x_test)\n",
    "y_pred"
   ]
  },
  {
   "cell_type": "code",
   "execution_count": null,
   "id": "sAoUlPCRZNKN",
   "metadata": {
    "id": "sAoUlPCRZNKN"
   },
   "outputs": [],
   "source": [
    "plt.scatter(y_test,y_pred)\n",
    "plt.xlabel('Actual Attrition of Data')\n",
    "plt.ylabel('Predicted Attrition of Data')\n",
    "plt.title(\"Actual VS Model Predicted\")\n",
    "plt.show()"
   ]
  },
  {
   "cell_type": "code",
   "execution_count": null,
   "id": "RFPvTS-sZTAE",
   "metadata": {
    "id": "RFPvTS-sZTAE"
   },
   "outputs": [],
   "source": [
    "from sklearn.metrics import mean_squared_error, mean_absolute_error\n",
    "y_pred = log_reg.predict(x_test)"
   ]
  },
  {
   "cell_type": "code",
   "execution_count": null,
   "id": "MK9IPfNOZYg0",
   "metadata": {
    "id": "MK9IPfNOZYg0"
   },
   "outputs": [],
   "source": [
    "# MAE (Mean Absolute Error)\n",
    "mean_absolute_error(y_test,y_pred)"
   ]
  },
  {
   "cell_type": "code",
   "execution_count": null,
   "id": "zXOX1JlYZeOK",
   "metadata": {
    "id": "zXOX1JlYZeOK"
   },
   "outputs": [],
   "source": [
    "# MSE (Mean Squared Error)\n",
    "mean_squared_error(y_test,y_pred)"
   ]
  },
  {
   "cell_type": "code",
   "execution_count": null,
   "id": "jjzcLolTZivF",
   "metadata": {
    "id": "jjzcLolTZivF"
   },
   "outputs": [],
   "source": [
    "# RMSE (Root Mean Squared Error)\n",
    "np.sqrt(mean_squared_error(y_test,y_pred))"
   ]
  },
  {
   "cell_type": "code",
   "execution_count": null,
   "id": "OrBZZ-r_ZuyZ",
   "metadata": {
    "id": "OrBZZ-r_ZuyZ"
   },
   "outputs": [],
   "source": [
    "from sklearn.linear_model import Ridge, Lasso, RidgeCV, LassoCV"
   ]
  },
  {
   "cell_type": "code",
   "execution_count": null,
   "id": "ik48KmkbZy_p",
   "metadata": {
    "id": "ik48KmkbZy_p"
   },
   "outputs": [],
   "source": [
    "#LassoCV will return best alpha after max iteration \n",
    "#Normalize is subtracting the mean and dividing by the L2_norm\n",
    "\n",
    "lassocv = LassoCV(alphas = None, max_iter =100,normalize= True)\n",
    "lassocv.fit(x_train,y_train)"
   ]
  },
  {
   "cell_type": "code",
   "execution_count": null,
   "id": "KY6Qi6uNZ3NK",
   "metadata": {
    "id": "KY6Qi6uNZ3NK"
   },
   "outputs": [],
   "source": [
    "# Best Alpha Parameter\n",
    "alpha = lassocv.alpha_\n",
    "alpha"
   ]
  },
  {
   "cell_type": "code",
   "execution_count": null,
   "id": "_Q1bn-8WZ6cf",
   "metadata": {
    "id": "_Q1bn-8WZ6cf"
   },
   "outputs": [],
   "source": [
    "# Now that we have best parameter, Let's use Lasso regression and see how well our data has fitted before\n",
    "lasso_reg = Lasso(alpha)\n",
    "lasso_reg.fit(x_train,y_train)"
   ]
  },
  {
   "cell_type": "code",
   "execution_count": null,
   "id": "vuO_kag9Z929",
   "metadata": {
    "id": "vuO_kag9Z929"
   },
   "outputs": [],
   "source": [
    "lasso_reg.score(x_test,y_test)"
   ]
  },
  {
   "cell_type": "code",
   "execution_count": null,
   "id": "VMeZBzTXaCdX",
   "metadata": {
    "id": "VMeZBzTXaCdX"
   },
   "outputs": [],
   "source": [
    "# Ridge will return best alpha and coefficient after performing 10 cross validation\n",
    "\n",
    "ridgecv= RidgeCV(alphas= np.arange(0.001,0.1,0.01), normalize = True)\n",
    "ridgecv.fit(x_train,y_train)"
   ]
  },
  {
   "cell_type": "code",
   "execution_count": null,
   "id": "pLST0kyRaFiB",
   "metadata": {
    "id": "pLST0kyRaFiB"
   },
   "outputs": [],
   "source": [
    "ridgecv.alpha_"
   ]
  },
  {
   "cell_type": "code",
   "execution_count": null,
   "id": "F0NSk6OtaIpW",
   "metadata": {
    "id": "F0NSk6OtaIpW"
   },
   "outputs": [],
   "source": [
    "ridge_model = Ridge(alpha = ridgecv.alpha_)\n",
    "ridge_model.fit(x_train,y_train)"
   ]
  },
  {
   "cell_type": "code",
   "execution_count": null,
   "id": "ZPx5PoMNaMd1",
   "metadata": {
    "id": "ZPx5PoMNaMd1"
   },
   "outputs": [],
   "source": [
    "ridge_model.score(x_test,y_test)"
   ]
  },
  {
   "cell_type": "code",
   "execution_count": null,
   "id": "imVgPxXpakQQ",
   "metadata": {
    "id": "imVgPxXpakQQ"
   },
   "outputs": [],
   "source": [
    "from sklearn.ensemble import RandomForestClassifier\n",
    "from sklearn.model_selection import RandomizedSearchCV as rsv"
   ]
  },
  {
   "cell_type": "code",
   "execution_count": null,
   "id": "KeNHKbplaoYt",
   "metadata": {
    "id": "KeNHKbplaoYt"
   },
   "outputs": [],
   "source": [
    "#Now Split our data in test(30%) and training(70%) set\n",
    "x_train,x_test,y_train,y_test=train_test_split(X,y, test_size = 0.30, random_state = 41)"
   ]
  },
  {
   "cell_type": "code",
   "execution_count": null,
   "id": "vqE_6PLQayQn",
   "metadata": {
    "id": "vqE_6PLQayQn"
   },
   "outputs": [],
   "source": [
    "random_clf=RandomForestClassifier()"
   ]
  },
  {
   "cell_type": "code",
   "execution_count": null,
   "id": "A6aVT9QEa1Pz",
   "metadata": {
    "id": "A6aVT9QEa1Pz"
   },
   "outputs": [],
   "source": [
    "random_clf.fit(x_train,y_train)"
   ]
  },
  {
   "cell_type": "code",
   "execution_count": null,
   "id": "mcFvmhUVa5a8",
   "metadata": {
    "id": "mcFvmhUVa5a8"
   },
   "outputs": [],
   "source": [
    "# call the function and pass dataset to check train and test score\n",
    "# This is for Training Score\n",
    "metric_score(random_clf,x_train,x_test,y_train,y_test, train = True)\n",
    "#This is for Testing Score\n",
    "metric_score(random_clf,x_train,x_test,y_train,y_test, train = False)"
   ]
  },
  {
   "cell_type": "code",
   "execution_count": null,
   "id": "ve1806RjbIwq",
   "metadata": {
    "id": "ve1806RjbIwq"
   },
   "outputs": [],
   "source": [
    "params={\"n_estimators\":[200,400],'max_depth':[6,9],'criterion':('gini','entropy')}\n",
    "grd = GridSearchCV(random_clf,param_grid=params)\n",
    "grd.fit(x_train,y_train)\n",
    "print(\"best_params => \",grd.best_params_)"
   ]
  },
  {
   "cell_type": "code",
   "execution_count": null,
   "id": "tOCnnspNbO2u",
   "metadata": {
    "id": "tOCnnspNbO2u"
   },
   "outputs": [],
   "source": [
    "random_clf=grd.best_estimator_\n",
    "random_clf.fit(x_train,y_train)"
   ]
  },
  {
   "cell_type": "code",
   "execution_count": null,
   "id": "K2b703aobUIP",
   "metadata": {
    "id": "K2b703aobUIP"
   },
   "outputs": [],
   "source": [
    "# call the function and pass dataset to check train and test score\n",
    "# This is for Training Score\n",
    "metric_score(random_clf,x_train,x_test,y_train,y_test, train = True)\n",
    "#This is for Testing Score\n",
    "metric_score(random_clf,x_train,x_test,y_train,y_test, train = False)"
   ]
  },
  {
   "cell_type": "code",
   "execution_count": null,
   "id": "g_pSeMugbYKV",
   "metadata": {
    "id": "g_pSeMugbYKV"
   },
   "outputs": [],
   "source": [
    "#Plot ROC/AUC for multiple models without hyperparams tuning\n",
    "from sklearn.linear_model import LogisticRegression\n",
    "from sklearn.neighbors import KNeighborsClassifier\n",
    "from sklearn.tree import DecisionTreeClassifier\n",
    "from sklearn.ensemble import RandomForestClassifier\n",
    "from sklearn.metrics import roc_curve,roc_auc_score\n",
    "from sklearn.metrics import plot_roc_curve"
   ]
  },
  {
   "cell_type": "code",
   "execution_count": null,
   "id": "McnLhxoNbbT6",
   "metadata": {
    "id": "McnLhxoNbbT6"
   },
   "outputs": [],
   "source": [
    "lr = LogisticRegression()\n",
    "dt = DecisionTreeClassifier()\n",
    "rf = RandomForestClassifier()\n",
    "kn = KNeighborsClassifier()"
   ]
  },
  {
   "cell_type": "code",
   "execution_count": null,
   "id": "febEvKQPbf9B",
   "metadata": {
    "id": "febEvKQPbf9B"
   },
   "outputs": [],
   "source": [
    "# training with all classifiers\n",
    "lr.fit(x_train,y_train)\n",
    "rf.fit(x_train,y_train)\n",
    "kn.fit(x_train,y_train)\n",
    "dt.fit(x_train,y_train)\n",
    "print(\"All Models Are Trained\")"
   ]
  },
  {
   "cell_type": "code",
   "execution_count": null,
   "id": "tctRY9B6blNt",
   "metadata": {
    "id": "tctRY9B6blNt"
   },
   "outputs": [],
   "source": [
    "#All Models Score Are Captured\n",
    "lr.score(x_test,y_test)\n",
    "kn.score(x_test,y_test)\n",
    "dt.score(x_test,y_test)\n",
    "rf.score(x_test,y_test)\n",
    "print(\"All models test score are captured\")"
   ]
  },
  {
   "cell_type": "code",
   "execution_count": null,
   "id": "eNGHEU16bo36",
   "metadata": {
    "id": "eNGHEU16bo36"
   },
   "outputs": [],
   "source": [
    "disp = plot_roc_curve(dt,x_train,y_train)\n",
    "plot_roc_curve(lr,x_train,y_train,ax=disp.ax_)\n",
    "plot_roc_curve(kn,x_train,y_train,ax=disp.ax_)\n",
    "plot_roc_curve(rf,x_train,y_train,ax=disp.ax_)\n",
    "plt.legend(prop={'size':10},loc='lower right')\n",
    "plt.show()"
   ]
  },
  {
   "cell_type": "code",
   "execution_count": null,
   "id": "gDNhLfOKbtAJ",
   "metadata": {
    "id": "gDNhLfOKbtAJ"
   },
   "outputs": [],
   "source": [
    "# How well our models works onn test data \n",
    "disp = plot_roc_curve(dt,x_test,y_test)\n",
    "plot_roc_curve(lr,x_test,y_test,ax=disp.ax_)\n",
    "plot_roc_curve(kn,x_test,y_test,ax=disp.ax_)\n",
    "plot_roc_curve(rf,x_test,y_test,ax=disp.ax_)\n",
    "plt.legend(prop={'size':10},loc='lower right')\n",
    "plt.show()"
   ]
  },
  {
   "cell_type": "code",
   "execution_count": null,
   "id": "4f9RvE49bzXy",
   "metadata": {
    "id": "4f9RvE49bzXy"
   },
   "outputs": [],
   "source": [
    "rfc=RandomForestClassifier()\n",
    "rfc_para={\"n_estimators\":[200,400],'max_depth':[6,9],'criterion':('gini','entropy')}\n",
    "rfc_rsv=rsv(rfc,rfc_para,cv=30)\n",
    "rfc_rsv.fit(x_train,y_train)\n",
    "print(rfc_rsv)\n",
    "print('\\nbest score=',rfc_rsv.best_score_)\n",
    "print('\\nbest parameters for RFC=\\n',rfc_rsv.best_params_)"
   ]
  },
  {
   "cell_type": "code",
   "execution_count": null,
   "id": "8IqIZG_Vb2rm",
   "metadata": {
    "id": "8IqIZG_Vb2rm"
   },
   "outputs": [],
   "source": [
    "rfc=rfc_rsv.best_estimator_\n",
    "rfc.fit(x_train,y_train)"
   ]
  },
  {
   "cell_type": "code",
   "execution_count": null,
   "id": "5GiwmCB4b6-K",
   "metadata": {
    "id": "5GiwmCB4b6-K"
   },
   "outputs": [],
   "source": [
    "# This is for Training Score\n",
    "metric_score(random_clf,x_train,x_test,y_train,y_test, train = True)\n",
    "#This is for Testing Score\n",
    "metric_score(random_clf,x_train,x_test,y_train,y_test, train = False)"
   ]
  },
  {
   "cell_type": "markdown",
   "id": "CffuhwjXkscs",
   "metadata": {
    "id": "CffuhwjXkscs"
   },
   "source": [
    "**Feeding the training dataset to ML model**"
   ]
  },
  {
   "cell_type": "markdown",
   "id": "e46LkRxDkuin",
   "metadata": {
    "id": "e46LkRxDkuin"
   },
   "source": [
    "Here, I am using XGBoost ensemble learning techique for training of the model."
   ]
  },
  {
   "cell_type": "code",
   "execution_count": null,
   "id": "vpdk2Acjb8d-",
   "metadata": {
    "id": "vpdk2Acjb8d-"
   },
   "outputs": [],
   "source": [
    "# fit model no training data\n",
    "!pip install xgboost"
   ]
  },
  {
   "cell_type": "code",
   "execution_count": null,
   "id": "Rubczyssk6V3",
   "metadata": {
    "id": "Rubczyssk6V3"
   },
   "outputs": [],
   "source": [
    "import xgboost as xgb\n",
    "from xgboost import XGBClassifier"
   ]
  },
  {
   "cell_type": "code",
   "execution_count": null,
   "id": "vLPlWRmwlCZX",
   "metadata": {
    "id": "vLPlWRmwlCZX"
   },
   "outputs": [],
   "source": [
    "model = XGBClassifier(objective='binary:logistic')\n",
    "model.fit(x_train, y_train)"
   ]
  },
  {
   "cell_type": "markdown",
   "id": "oQxU20PylXwl",
   "metadata": {
    "id": "oQxU20PylXwl"
   },
   "source": [
    "**Calculating the training and testing accuracies.**"
   ]
  },
  {
   "cell_type": "markdown",
   "id": "UOGntqQ6ladc",
   "metadata": {
    "id": "UOGntqQ6ladc"
   },
   "source": [
    "TRAINING ACCURACY"
   ]
  },
  {
   "cell_type": "code",
   "execution_count": null,
   "id": "S56N5afblIwk",
   "metadata": {
    "id": "S56N5afblIwk"
   },
   "outputs": [],
   "source": [
    "from sklearn.metrics import accuracy_score\n",
    "\n",
    "# cheking training accuracy\n",
    "y_pred = model.predict(x_train)\n",
    "predictions = [round(value) for value in y_pred]\n",
    "accuracy = accuracy_score(y_train,predictions)\n",
    "accuracy"
   ]
  },
  {
   "cell_type": "markdown",
   "id": "wTsYgkn-lwRd",
   "metadata": {
    "id": "wTsYgkn-lwRd"
   },
   "source": [
    "TESTING ACCURACY"
   ]
  },
  {
   "cell_type": "code",
   "execution_count": null,
   "id": "7zTViQ2ulsKI",
   "metadata": {
    "id": "7zTViQ2ulsKI"
   },
   "outputs": [],
   "source": [
    "# cheking initial test accuracy\n",
    "y_pred = model.predict(x_test))\n",
    "predictions = [round(value) for value in y_pred]\n",
    "accuracy = accuracy_score(y_test,predictions)\n",
    "accuracy"
   ]
  },
  {
   "cell_type": "markdown",
   "id": "ASVv2OvBl3y7",
   "metadata": {
    "id": "ASVv2OvBl3y7"
   },
   "source": [
    "**SAVING THE MODEL**"
   ]
  },
  {
   "cell_type": "code",
   "execution_count": null,
   "id": "eqHytcZcl72K",
   "metadata": {
    "id": "eqHytcZcl72K"
   },
   "outputs": [],
   "source": [
    "import pickle"
   ]
  },
  {
   "cell_type": "code",
   "execution_count": null,
   "id": "I1lrSpL5mBvB",
   "metadata": {
    "id": "I1lrSpL5mBvB"
   },
   "outputs": [],
   "source": [
    "filename = 'xgboost_model.pickle'\n",
    "pickle.dump(model, open(filename, 'WB'))\n",
    "\n",
    "loaded_model = pickle.load(open(filename, 'RB'))"
   ]
  },
  {
   "cell_type": "markdown",
   "id": "l_R1r14dcUMo",
   "metadata": {
    "id": "l_R1r14dcUMo"
   },
   "source": [
    "****Important Aspects of the model****"
   ]
  },
  {
   "cell_type": "markdown",
   "id": "3eekJw49ccNM",
   "metadata": {
    "id": "3eekJw49ccNM"
   },
   "source": [
    "**Task 1: Data cleaning including missing values, outliers and multi-collinearity:**"
   ]
  },
  {
   "cell_type": "markdown",
   "id": "bXC-bBpLcjHu",
   "metadata": {
    "id": "bXC-bBpLcjHu"
   },
   "source": [
    "1. In the given dataset, there were no missing values.\n",
    "\n",
    "2. I display outliers using the boxplots and Z-score value. The outliers could have been removed using Quantile based flooring and capping or Mean/Median imputation.\n",
    "\n",
    "3. Heatmaps are used to display the corelations among features. Features with considerable correlation values are handeled by computing a different information from them as shown."
   ]
  },
  {
   "cell_type": "markdown",
   "id": "ppOopP2NdLk0",
   "metadata": {
    "id": "ppOopP2NdLk0"
   },
   "source": [
    "**Task 2: Describe your fraud detection model in elaboration.**"
   ]
  },
  {
   "cell_type": "markdown",
   "id": "1dohwcA9dWVL",
   "metadata": {
    "id": "1dohwcA9dWVL"
   },
   "source": [
    "1. After cleaning the data and performing exploratory data analysis on the it, the produced dataset is used in training of the machine learning model.\n",
    "\n",
    "2. In this particular task, I have used XGBoost classification algorithm to develop the model.\n",
    "\n",
    "XGBoost improves the gradient boosting method even further.\n",
    "\n",
    "XGBoost (extreme gradient boosting) regularises data better than normal gradient boosted Trees.\n",
    "\n",
    "XGBoost's objective function is the sum of loss function evaluated over all the predictions and a regularisation function for all predictors ( 𝑗 trees). In the formula 𝑓𝑗 means a prediction coming from the 𝑗𝑡ℎ tree.\n",
    "\n",
    "                                        𝑜𝑏𝑗(𝜃)=∑𝑖𝑛𝑙(𝑦𝑖−𝑦𝑖^)+∑𝑗=1𝑗Ω(𝑓𝑗)\n",
    "\n",
    "Loss function depends on the task being performed (classification, regression, etc.) and a regularization term is described by the following equation:\n",
    "\n",
    "                                          Ω(𝑓)=𝛾𝑇+12𝜆∑𝑗=1𝑇𝑤2𝑗\n",
    "\n",
    "First part ( 𝛾𝑇 ) is responsible for controlling the overall number of created leaves, and the second term ( 12𝜆∑𝑇𝑗=1𝑤2𝑗 ) watches over the scores.\n",
    "\n",
    "Mathematics Involved Unlike the other tree-building algorithms, XGBoost doesn’t use entropy or Gini indices. Instead, it utilises gradient (the error term) and hessian for creating the trees. Hessian for a Regression problem is the number of residuals and for a classification problem. Mathematically, Hessian is a second order derivative of the loss at the current estimate given as:\n",
    "\n",
    "where L is the loss function.\n",
    "\n",
    "Initialise the tree with only one leaf. compute the similarity using the formula 𝑆𝑖𝑚𝑖𝑙𝑎𝑟𝑖𝑡𝑦=𝐺𝑟𝑎𝑑𝑖𝑒𝑛𝑡2ℎ𝑒𝑠𝑠𝑖𝑎𝑛+𝜆 Where 𝜆 is the regularisation term. Now for splitting data into a tree form, calculate 𝐺𝑎𝑖𝑛=𝑙𝑒𝑓𝑡𝑠𝑖𝑚𝑖𝑙𝑎𝑟𝑖𝑡𝑦+𝑟𝑖𝑔ℎ𝑡𝑠𝑖𝑚𝑖𝑙𝑎𝑟𝑖𝑡𝑦−𝑠𝑖𝑚𝑖𝑙𝑎𝑟𝑖𝑡𝑦𝑓𝑜𝑟𝑟𝑜𝑜𝑡 For tree pruning, the parameter 𝛾 is used. The algorithm starts from the lowest level of the tree and then starts pruning based on the value of 𝛾. If 𝐺𝑎𝑖𝑛−𝛾<0, remove that branch. Else, keep the branch\n",
    "\n",
    "Learning is done using the equation 𝑁𝑒𝑤𝑉𝑎𝑙𝑢𝑒=𝑜𝑙𝑑𝑉𝑎𝑙𝑢𝑒+𝜂∗𝑝𝑟𝑒𝑑𝑖𝑐𝑡𝑖𝑜𝑛 where 𝜂 is the learning rate."
   ]
  },
  {
   "cell_type": "markdown",
   "id": "BReqA_3-ek_3",
   "metadata": {
    "id": "BReqA_3-ek_3"
   },
   "source": [
    "**Task 3: How did you select variables to be included in the model?**"
   ]
  },
  {
   "cell_type": "markdown",
   "id": "Dy40AjiKeupE",
   "metadata": {
    "id": "Dy40AjiKeupE"
   },
   "source": [
    "1. The list variables or features are - [step,type,amount,nameOrig,oldbalanceOrg,newbalanceOrig,nameDest,oldbalanceDest,newbalanceDest,isFraud,isFlaggedFraud].\n",
    "\n",
    "2. Out of these features, 'step', 'nameOrig', and 'nameDest' are the features which have no role to play in prediction a trasaction being fraud or not. This is because these are just the unique string values, which can be ignored.\n",
    "\n",
    "3. The main role for classifying a prediction as fraud or not are played by the difference between the original and new_balance amount in the accounts of sender and receiver, further depending upon the 'type of transaction'. Therefore, the features considered for classification tasks are oldbalanceOrg, newbalanceOrig, oldbalanceDest, newbalanceDest and type.\n",
    "\n",
    "4. 'isFraud' is considered as the column of labels in the supervised learning model."
   ]
  },
  {
   "cell_type": "markdown",
   "id": "oVxD-23Ye-DO",
   "metadata": {
    "id": "oVxD-23Ye-DO"
   },
   "source": [
    "**Task 4: Demonstrate the performance of the model by using best set of tools**"
   ]
  },
  {
   "cell_type": "markdown",
   "id": "dnB2yiCKfG82",
   "metadata": {
    "id": "dnB2yiCKfG82"
   },
   "source": [
    "1. The perfomance metrice I have used over here is accuracy. accuracy is the measurement used to determine which model is best at identifying relationships and patterns between variables in a dataset based on the input, or training, data.\n",
    "\n",
    "2. I preffered to use accuracy over other perfomance measuring metrices like precision, F1 Score etc. because accuracy tells the measure of correct classification, which is utmost necessary to know, so that a Fraud transaction can be detected effectively.\n",
    "\n",
    "3. At any cost, the company can not entertain the mistake of a actual fraud transaction being classified as 'not fraud' and a 'not fraud' transaction being classified as 'fraud'.\n",
    "\n",
    "If any such mistake happens, it would adversely affect the reputation of the bank or company."
   ]
  },
  {
   "cell_type": "markdown",
   "id": "m-w-aLcIfp4r",
   "metadata": {
    "id": "m-w-aLcIfp4r"
   },
   "source": [
    "**Task 5: What are the key factors that predict fraudulent customer?**"
   ]
  },
  {
   "cell_type": "markdown",
   "id": "SITfdoqufSEi",
   "metadata": {
    "id": "SITfdoqufSEi"
   },
   "source": [
    "Some of the important factors that play a majour role in predicting a fradulant customer are:\n",
    "\n",
    "1. Customer's identity (email addresses, credit card numbers, etc.)\n",
    "2. The past order details.\n",
    "3. Their preferred payment methods,\n",
    "4. The locations they have used for the transactions.\n",
    "5. Their network (emails, phone numbers, and payment details entered with the online account)."
   ]
  },
  {
   "cell_type": "markdown",
   "id": "SnWBaHX6fmKH",
   "metadata": {
    "id": "SnWBaHX6fmKH"
   },
   "source": [
    "**Task 6: Do these factors make sense? If yes, How? If not, How not?**"
   ]
  },
  {
   "cell_type": "markdown",
   "id": "NyLNzX6uf27R",
   "metadata": {
    "id": "NyLNzX6uf27R"
   },
   "source": [
    "In my point of view, yes! definitly the above mentioned points make sense.\n",
    "\n",
    "1. Customer's identity is necessary to identify him or her so that further necessary action can be taken.\n",
    "\n",
    "2. The history of the orders help in knowing what kind of transaction does the customer makes usually, so that an unusual transaction can be detected.\n",
    "\n",
    "3. The location of the customer where he/she makes most of the transactions should be stored to know if any other location which maybe far away from the usual location can be determined, as it could be a posible fraud transaction.\n",
    "\n",
    "4. Customer's personal information like his emails, payment details etc can be possible source through which fraud could have been conducted."
   ]
  },
  {
   "cell_type": "markdown",
   "id": "cbkn3hoBgDD7",
   "metadata": {
    "id": "cbkn3hoBgDD7"
   },
   "source": [
    "**Task 7: What kind of prevention should be adopted while company update its infrastructure?**"
   ]
  },
  {
   "cell_type": "markdown",
   "id": "vX6D-vibgFg2",
   "metadata": {
    "id": "vX6D-vibgFg2"
   },
   "source": [
    "While updating the infrastructure of the company, in general, following preventions should be considered:\n",
    "\n",
    "1. Understand your work, understand your necessary requirements, then update the infrastructure.\n",
    "\n",
    "2. The dependability of your candidate infrastructure must be accessed.\n",
    "\n",
    "3. Think about legal and ethical issues.\n",
    "\n",
    "4. Consider financial issues. Over bugeting must be avoided.\n",
    "\n",
    "5. Wastage of reusable material should be avoided.\n",
    "\n",
    "6. Prevent employees from overusing the company resources."
   ]
  },
  {
   "cell_type": "markdown",
   "id": "f_Oqe1Y_gYIO",
   "metadata": {
    "id": "f_Oqe1Y_gYIO"
   },
   "source": [
    "**Task 8: Assuming these actions have been implemented, how would you determine if they work?**"
   ]
  },
  {
   "cell_type": "markdown",
   "id": "UsCaxHL3gbmW",
   "metadata": {
    "id": "UsCaxHL3gbmW"
   },
   "source": [
    "This task can be performed at 4 levels:\n",
    "\n",
    "1. Physical Level: Infrastructure needs physical protection in the form of locked doors, fences, backup generators, security cameras and the like. Failover plans that locate backup equipment in another part of the world are also a part of a physical security strategy.\n",
    "\n",
    "2. Network Level: At its core, network security protects data as it travels into, out of and across the network. This includes traffic encryption, whether it is on-premises or in the cloud, proper firewall management and the use of authentication and authorization systems.\n",
    "\n",
    "3. Application Level: Security also needs to be considered at the application level. This includes protection of databases against attacks such as SQL injections as well as the hardening of other applications against unauthorized use or malicious exploits.\n",
    "\n",
    "4. Data Level: At the lowest level of infrastructure security, data protection must be considered, no matter where or how it is stored. This includes data encryption, backups and anonymization tactics where they are appropriate."
   ]
  },
  {
   "cell_type": "markdown",
   "id": "ydvBIOJ1g6Lb",
   "metadata": {
    "id": "ydvBIOJ1g6Lb"
   },
   "source": [
    "                                                               **THE END**"
   ]
  }
 ],
 "metadata": {
  "colab": {
   "provenance": []
  },
  "kernelspec": {
   "display_name": "Python 3 (ipykernel)",
   "language": "python",
   "name": "python3"
  },
  "language_info": {
   "codemirror_mode": {
    "name": "ipython",
    "version": 3
   },
   "file_extension": ".py",
   "mimetype": "text/x-python",
   "name": "python",
   "nbconvert_exporter": "python",
   "pygments_lexer": "ipython3",
   "version": "3.9.12"
  }
 },
 "nbformat": 4,
 "nbformat_minor": 5
}
